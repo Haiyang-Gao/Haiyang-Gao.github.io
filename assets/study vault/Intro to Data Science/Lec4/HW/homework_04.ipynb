{
 "cells": [
  {
   "cell_type": "markdown",
   "metadata": {},
   "source": [
    "# Homework 4: Tables and data manipulation\n",
    "\n",
    "Welcome to the fourth homework! \n",
    "\n",
    "In this homework you will practice manipulating data in Tables. Please complete this notebook by filling in the cells provided. "
   ]
  },
  {
   "cell_type": "markdown",
   "metadata": {},
   "source": [
    "**Deadline:**\n",
    "\n",
    "This assignment is due **Wednesday July 16 at 10pm in Gradescope.** \n",
    "\n",
    "Directly sharing answers is not okay, but discussing problems with the course staff or with other students is encouraged. *You are not allowed to use chatGPT to answer any questions on the homework*. If your answers include code that we have not discussed in class that is copied from chatGPT, this will be considered a violation of academic dishonesty and will face disciplinary action.\n",
    "\n",
    "You should start early so that you have time to get help if you're stuck. \n"
   ]
  },
  {
   "cell_type": "markdown",
   "metadata": {},
   "source": [
    "## Getting started\n",
    "\n",
    "In order to complete the homework, it is necessary to download a few files. Please run the code below **only once** to download data needed to complete the homework. To run the code, click in the cell below and press the play button (or press shift-enter). "
   ]
  },
  {
   "cell_type": "code",
   "execution_count": 75,
   "metadata": {},
   "outputs": [],
   "source": [
    "# if you are running this notebook in colabs, please uncomment and run the following two lines\n",
    "# !pip install https://github.com/emeyers/YData_package/tarball/master"
   ]
  },
  {
   "cell_type": "code",
   "execution_count": 2,
   "metadata": {},
   "outputs": [],
   "source": [
    "# Please run this code once to download the files you will need to complete the homework \n",
    "\n",
    "import YData \n",
    "\n",
    "YData.download.download_data(\"ACS_2017_sample_01.csv\")\n",
    "YData.download.download_data(\"ACS_major_codes.tsv\")\n",
    "YData.download.download_data(\"2018_Central_Park_Squirrel_Census.csv\")\n",
    "    "
   ]
  },
  {
   "cell_type": "markdown",
   "metadata": {},
   "source": [
    "## 0. Quote and reaction\n",
    "\n",
    "This week's reading is from the website FiveThirtyEight and discusses which college majors make the most money. We will do a similar analysis, with slightly different data, on this homework. Please read the [blog post](https://fivethirtyeight.com/features/the-economic-guide-to-picking-a-college-major/), and write down a quote that you find interesting. In the space below, write down the quote as well as a one paragraph description for why you thought the quote was interesting. \n",
    " "
   ]
  },
  {
   "cell_type": "markdown",
   "metadata": {},
   "source": [
    "**Question 0.1 (5 points)**  Please write down your \"quote and reaction\" here.\n",
    "\n",
    "*Quote:*  The link between education and earnings is notoriously fraught, with cause and effect often difficult to disentangle. But a look at detailed data on college graduates by major reveals some clear messages: Don’t be pre-med if you aren’t planning to go to medical school; don’t assume that all “STEM” — science, technology, engineering and math — majors are the same; and if you study drama, be prepared to wait tables.\n",
    "\n",
    "Reaction: This quote describe the fact of the society and give a abstract of what the passage is going to discuss. It is really amazing that the \"discriminate\" over major are so common around the world and the huge difference a degree could make."
   ]
  },
  {
   "cell_type": "code",
   "execution_count": 2,
   "metadata": {},
   "outputs": [],
   "source": [
    "# This cell imports functions from packages we will use below.\n",
    "# Please run it each time you load the Jupyter notebook\n",
    "\n",
    "import numpy as np\n",
    "import pandas as pd\n",
    "import matplotlib.pyplot as plt\n",
    "\n",
    "%matplotlib inline"
   ]
  },
  {
   "cell_type": "markdown",
   "metadata": {},
   "source": [
    "## 1. Squirrels of New York\n",
    "\n",
    "Have you ever wondered how many squirrels are in New York City parks, where they are located, and what they are up to? Well some people have, and those people created [The Squirrel Census](https://www.thesquirrelcensus.com/) which contains information about squirrels sightings in New York City (NYC). \n",
    "\n",
    "Let's look at data on squirrels in [Central Park](https://en.wikipedia.org/wiki/Central_Park) that was [collected in 2018](https://data.cityofnewyork.us/Environment/2018-Central-Park-Squirrel-Census-Squirrel-Data/vfnx-vebw).\n",
    "\n",
    "People living in NYC are often very busy so they can sometimes seem indifferent to their surroundings. But is this true of squirrels living in NYC too? Let's examine this important question and also see if squirrel indifference varies depending on the color of their fur. \n",
    "\n"
   ]
  },
  {
   "cell_type": "code",
   "execution_count": 5,
   "metadata": {},
   "outputs": [],
   "source": [
    "\n",
    "squirrel_data = pd.read_csv(\"2018_Central_Park_Squirrel_Census.csv\")\n"
   ]
  },
  {
   "cell_type": "markdown",
   "metadata": {},
   "source": [
    "**Question 1.1 (3 points)** The code in the cell above loads the data as a panda DataFrame. As a first step in analyzing data, it is always a good idea to take a quick visual inspection of the data. \n",
    "\n",
    "Please do the following as an initial exploration of the data: \n",
    "- Print out the shape of the data\n",
    "- Print out the first 3 rows of the DataFrame. \n",
    "\n",
    "Hint: the `.head()` method will be useful for the last problem.\n"
   ]
  },
  {
   "cell_type": "code",
   "execution_count": 8,
   "metadata": {},
   "outputs": [
    {
     "name": "stdout",
     "output_type": "stream",
     "text": [
      "(3023, 31)\n",
      "           X          Y Unique Squirrel ID Hectare Shift      Date  \\\n",
      "0 -73.956134  40.794082     37F-PM-1014-03     37F    PM  10142018   \n",
      "1 -73.968857  40.783783     21B-AM-1019-04     21B    AM  10192018   \n",
      "2 -73.974281  40.775534     11B-PM-1014-08     11B    PM  10142018   \n",
      "\n",
      "   Hectare Squirrel Number  Age Primary Fur Color Highlight Fur Color  ...  \\\n",
      "0                        3  NaN               NaN                 NaN  ...   \n",
      "1                        4  NaN               NaN                 NaN  ...   \n",
      "2                        8  NaN              Gray                 NaN  ...   \n",
      "\n",
      "    Kuks  Quaas  Moans Tail flags Tail twitches  Approaches  Indifferent  \\\n",
      "0  False  False  False      False         False       False        False   \n",
      "1  False  False  False      False         False       False        False   \n",
      "2  False  False  False      False         False       False        False   \n",
      "\n",
      "   Runs from  Other Interactions                                    Lat/Long  \n",
      "0      False                 NaN  POINT (-73.9561344937861 40.7940823884086)  \n",
      "1      False                 NaN  POINT (-73.9688574691102 40.7837825208444)  \n",
      "2      False                 NaN  POINT (-73.97428114848522 40.775533619083)  \n",
      "\n",
      "[3 rows x 31 columns]\n"
     ]
    }
   ],
   "source": [
    "print(squirrel_data.shape)\n",
    "print(squirrel_data.head(3))\n"
   ]
  },
  {
   "cell_type": "markdown",
   "metadata": {},
   "source": [
    "**Question 1.2 (4 points)**  For a first set of analyses, let's look at the Indifferent column, which describes whether a squirrel was indifferent to the presence of the human observer.  \n",
    "\n",
    "Please extract the `Indifferent` column as a Series and save it to the name `squirrel_indifference`. Also print out the dtype to show the type of data that is stored in the Series. \n"
   ]
  },
  {
   "cell_type": "code",
   "execution_count": 11,
   "metadata": {},
   "outputs": [
    {
     "name": "stdout",
     "output_type": "stream",
     "text": [
      "bool\n"
     ]
    }
   ],
   "source": [
    "squirrel_indifference = squirrel_data.Indifferent\n",
    "print(squirrel_indifference.dtype)"
   ]
  },
  {
   "cell_type": "markdown",
   "metadata": {},
   "source": [
    "**Question 1.3 (4 points)**: Let's now look at the following questions: \n",
    "\n",
    "1. How many squirrels are there in total? \n",
    "2. How many squirrels are indifferent?  \n",
    "3. What proportion of squirrels are indifferent? \n",
    "\n",
    "Please print out numbers that show the answers to these questions. For the proportion, *round your answer to 3 decimal places*. In the answer section below, answer the above questions in complete sentences using the numbers. \n",
    "\n",
    "Hint: As you recall, series are like ndarrays so we can use many of the same ndarray functions we have previously used. "
   ]
  },
  {
   "cell_type": "code",
   "execution_count": 18,
   "metadata": {},
   "outputs": [
    {
     "name": "stdout",
     "output_type": "stream",
     "text": [
      "There are 3023 squirrels in total\n",
      "There are 1454 squirrels that are indifference\n",
      "There are 0.481 of squirrels that are indifferent\n"
     ]
    }
   ],
   "source": [
    "print(f\"There are {len(squirrel_indifference)} squirrels in total\")\n",
    "sqr_list = squirrel_indifference.tolist()\n",
    "print(f\"There are {sqr_list.count(True)} squirrels that are indifference\")\n",
    "print(f\"There are {round(sqr_list.count(True)/len(squirrel_indifference),3)} of squirrels that are indifferent\")"
   ]
  },
  {
   "cell_type": "code",
   "execution_count": 24,
   "metadata": {},
   "outputs": [
    {
     "data": {
      "text/plain": [
       "1454"
      ]
     },
     "execution_count": 24,
     "metadata": {},
     "output_type": "execute_result"
    }
   ],
   "source": [
    "#method 2\n",
    "squirrel_indifference[squirrel_indifference == True].count()"
   ]
  },
  {
   "cell_type": "markdown",
   "metadata": {},
   "source": [
    "**Answers**\n",
    "\n",
    "1. There are 3023 squirrels in total\n",
    "\n",
    "2. There are 1454 squirrels that are indifference\n",
    "\n",
    "3. There are 0.481 of squirrels that are indifferent\n"
   ]
  },
  {
   "cell_type": "markdown",
   "metadata": {},
   "source": [
    "**Question 1.4 (4 points)**: For the next set of questions, let's look at whether the proportion of squirrels that are indifferent differs for squirrels with different fur colors. \n",
    "\n",
    "To start, please extract a DataFrame that has just two columns: \n",
    "\n",
    "1. `The Primary Fur Color`: The main fur color of each squirrel\n",
    "2. `Indifferent`: Whether the squirrel was indifferent\n",
    "\n",
    "Save this DataFrame to the name `squirrel_fur` and display the first 2 rows of this DataFrame below.\n"
   ]
  },
  {
   "cell_type": "code",
   "execution_count": 27,
   "metadata": {},
   "outputs": [
    {
     "data": {
      "text/html": [
       "<div>\n",
       "<style scoped>\n",
       "    .dataframe tbody tr th:only-of-type {\n",
       "        vertical-align: middle;\n",
       "    }\n",
       "\n",
       "    .dataframe tbody tr th {\n",
       "        vertical-align: top;\n",
       "    }\n",
       "\n",
       "    .dataframe thead th {\n",
       "        text-align: right;\n",
       "    }\n",
       "</style>\n",
       "<table border=\"1\" class=\"dataframe\">\n",
       "  <thead>\n",
       "    <tr style=\"text-align: right;\">\n",
       "      <th></th>\n",
       "      <th>Primary Fur Color</th>\n",
       "      <th>Indifferent</th>\n",
       "    </tr>\n",
       "  </thead>\n",
       "  <tbody>\n",
       "    <tr>\n",
       "      <th>0</th>\n",
       "      <td>NaN</td>\n",
       "      <td>False</td>\n",
       "    </tr>\n",
       "    <tr>\n",
       "      <th>1</th>\n",
       "      <td>NaN</td>\n",
       "      <td>False</td>\n",
       "    </tr>\n",
       "  </tbody>\n",
       "</table>\n",
       "</div>"
      ],
      "text/plain": [
       "  Primary Fur Color  Indifferent\n",
       "0               NaN        False\n",
       "1               NaN        False"
      ]
     },
     "execution_count": 27,
     "metadata": {},
     "output_type": "execute_result"
    }
   ],
   "source": [
    "squirrel_fur =  squirrel_data[[\"Primary Fur Color\",\"Indifferent\"]]\n",
    "squirrel_fur.head(2)\n",
    "\n"
   ]
  },
  {
   "cell_type": "markdown",
   "metadata": {},
   "source": [
    "**Question 1.5 (4 points)**: Let's now count how many squirrels there are of each color. \n",
    "\n",
    "Please create a DataFrame called `color_count_mislabeled` which has the counts of how many squirrels are of each color. Once you have calculated this, display the `color_count_mislabeled` DataFrame below. \n",
    "\n",
    "Hint: The `.groupby()` and `.count()` methods should be useful here. \n"
   ]
  },
  {
   "cell_type": "code",
   "execution_count": 32,
   "metadata": {},
   "outputs": [
    {
     "data": {
      "text/html": [
       "<div>\n",
       "<style scoped>\n",
       "    .dataframe tbody tr th:only-of-type {\n",
       "        vertical-align: middle;\n",
       "    }\n",
       "\n",
       "    .dataframe tbody tr th {\n",
       "        vertical-align: top;\n",
       "    }\n",
       "\n",
       "    .dataframe thead th {\n",
       "        text-align: right;\n",
       "    }\n",
       "</style>\n",
       "<table border=\"1\" class=\"dataframe\">\n",
       "  <thead>\n",
       "    <tr style=\"text-align: right;\">\n",
       "      <th></th>\n",
       "      <th>Indifferent</th>\n",
       "    </tr>\n",
       "    <tr>\n",
       "      <th>Primary Fur Color</th>\n",
       "      <th></th>\n",
       "    </tr>\n",
       "  </thead>\n",
       "  <tbody>\n",
       "    <tr>\n",
       "      <th>Black</th>\n",
       "      <td>103</td>\n",
       "    </tr>\n",
       "    <tr>\n",
       "      <th>Cinnamon</th>\n",
       "      <td>392</td>\n",
       "    </tr>\n",
       "    <tr>\n",
       "      <th>Gray</th>\n",
       "      <td>2473</td>\n",
       "    </tr>\n",
       "  </tbody>\n",
       "</table>\n",
       "</div>"
      ],
      "text/plain": [
       "                   Indifferent\n",
       "Primary Fur Color             \n",
       "Black                      103\n",
       "Cinnamon                   392\n",
       "Gray                      2473"
      ]
     },
     "execution_count": 32,
     "metadata": {},
     "output_type": "execute_result"
    }
   ],
   "source": [
    "color_count_mislabeled = squirrel_fur.groupby(\"Primary Fur Color\").count()\n",
    "color_count_mislabeled"
   ]
  },
  {
   "cell_type": "code",
   "execution_count": 37,
   "metadata": {},
   "outputs": [
    {
     "data": {
      "text/html": [
       "<div>\n",
       "<style scoped>\n",
       "    .dataframe tbody tr th:only-of-type {\n",
       "        vertical-align: middle;\n",
       "    }\n",
       "\n",
       "    .dataframe tbody tr th {\n",
       "        vertical-align: top;\n",
       "    }\n",
       "\n",
       "    .dataframe thead th {\n",
       "        text-align: right;\n",
       "    }\n",
       "</style>\n",
       "<table border=\"1\" class=\"dataframe\">\n",
       "  <thead>\n",
       "    <tr style=\"text-align: right;\">\n",
       "      <th></th>\n",
       "      <th>Indifferent</th>\n",
       "    </tr>\n",
       "    <tr>\n",
       "      <th>Primary Fur Color</th>\n",
       "      <th></th>\n",
       "    </tr>\n",
       "  </thead>\n",
       "  <tbody>\n",
       "    <tr>\n",
       "      <th>Black</th>\n",
       "      <td>103</td>\n",
       "    </tr>\n",
       "    <tr>\n",
       "      <th>Cinnamon</th>\n",
       "      <td>392</td>\n",
       "    </tr>\n",
       "    <tr>\n",
       "      <th>Gray</th>\n",
       "      <td>2473</td>\n",
       "    </tr>\n",
       "  </tbody>\n",
       "</table>\n",
       "</div>"
      ],
      "text/plain": [
       "                   Indifferent\n",
       "Primary Fur Color             \n",
       "Black                      103\n",
       "Cinnamon                   392\n",
       "Gray                      2473"
      ]
     },
     "execution_count": 37,
     "metadata": {},
     "output_type": "execute_result"
    }
   ],
   "source": [
    "# method 2\n",
    "color_count_mislabeled = squirrel_fur.groupby(\"Primary Fur Color\").agg(\"count\")\n",
    "color_count_mislabeled"
   ]
  },
  {
   "cell_type": "markdown",
   "metadata": {},
   "source": [
    "**Question 1.6 (4 points)**: If you look at the `color_count_mislabeled` DataFrame you created in the previous question, you will notice that the column that contains the counts of each squirrel is titled `Indifferent`. This is a poor name choice since it really contains the counts of squirrels of each color and has nothing to do with whether the squirrels were indifferent. Let's rename it so that the column is called as `Count`. \n",
    "\n",
    "Recall that to relabel a column, we can create a dictionary where the keys are the old column names, and the values are the new column names. For example, if we wanted to replace the column name `old_column` with the name `new_column` we would create a dictionary that had the values `{\"old_column\": \"new_column\"}`. Once we create a dictionary that can relabel a column name, we can update the column name using the method: `my_df.rename(columns = new_name_dictionary)`.\n",
    "\n",
    "Please go ahead and rename the column `Indifferent` column to be called `Count` in the `color_count_mislabeled` DataFrame. Save the new DataFrame in the name `color_count` and display this DataFrame to show you have the correct answer. \n",
    "\n"
   ]
  },
  {
   "cell_type": "code",
   "execution_count": 40,
   "metadata": {},
   "outputs": [
    {
     "data": {
      "text/html": [
       "<div>\n",
       "<style scoped>\n",
       "    .dataframe tbody tr th:only-of-type {\n",
       "        vertical-align: middle;\n",
       "    }\n",
       "\n",
       "    .dataframe tbody tr th {\n",
       "        vertical-align: top;\n",
       "    }\n",
       "\n",
       "    .dataframe thead th {\n",
       "        text-align: right;\n",
       "    }\n",
       "</style>\n",
       "<table border=\"1\" class=\"dataframe\">\n",
       "  <thead>\n",
       "    <tr style=\"text-align: right;\">\n",
       "      <th></th>\n",
       "      <th>Count</th>\n",
       "    </tr>\n",
       "    <tr>\n",
       "      <th>Primary Fur Color</th>\n",
       "      <th></th>\n",
       "    </tr>\n",
       "  </thead>\n",
       "  <tbody>\n",
       "    <tr>\n",
       "      <th>Black</th>\n",
       "      <td>103</td>\n",
       "    </tr>\n",
       "    <tr>\n",
       "      <th>Cinnamon</th>\n",
       "      <td>392</td>\n",
       "    </tr>\n",
       "    <tr>\n",
       "      <th>Gray</th>\n",
       "      <td>2473</td>\n",
       "    </tr>\n",
       "  </tbody>\n",
       "</table>\n",
       "</div>"
      ],
      "text/plain": [
       "                   Count\n",
       "Primary Fur Color       \n",
       "Black                103\n",
       "Cinnamon             392\n",
       "Gray                2473"
      ]
     },
     "execution_count": 40,
     "metadata": {},
     "output_type": "execute_result"
    }
   ],
   "source": [
    "tool_dict = {\"Indifferent\":\"Count\"}\n",
    "color_count = color_count_mislabeled.rename(columns = tool_dict)\n",
    "color_count"
   ]
  },
  {
   "cell_type": "markdown",
   "metadata": {},
   "source": [
    "**Question 1.7 (4 points)**: Now let's get the total number of squirrels that are reported in the `color_count` DataFrame by summing the values in the (newly renamed) `Count` column. \n",
    "\n",
    "Please print this number below. In the answer section, in 1-3 sentences, report why this number is different from the number of rows in the original `squirrel_data` DataFrame that you reported in question 1.1. \n"
   ]
  },
  {
   "cell_type": "code",
   "execution_count": 111,
   "metadata": {},
   "outputs": [
    {
     "data": {
      "text/plain": [
       "Count    2968\n",
       "dtype: int64"
      ]
     },
     "execution_count": 111,
     "metadata": {},
     "output_type": "execute_result"
    }
   ],
   "source": [
    "color_count.sum()"
   ]
  },
  {
   "cell_type": "markdown",
   "metadata": {},
   "source": [
    "**Answer**: There is a difference because there are some NaN value in the Primary Fur Color column.\n",
    "\n",
    "\n",
    "\n"
   ]
  },
  {
   "cell_type": "markdown",
   "metadata": {},
   "source": [
    "**Question 1.8 (4 points)**: Now let's count how many squirrels of each color are indifferent. To do this, use the `.groupby()` and `.sum()` methods. Save the results in the name `indifferent_color_count`, and print out this DataFrame to show your work. \n",
    "\n",
    "In the answer section, in 1-3 sentences describe why the `sum()` method gives the total number of squirrels that are *indifferent* (as opposed to, for example, using the `count()` method which returns the total number of squirrels regardless of whether they are indifferent). \n",
    "\n",
    "Hint: think about what type of values the `sum()` function is summing over. \n"
   ]
  },
  {
   "cell_type": "code",
   "execution_count": 46,
   "metadata": {},
   "outputs": [
    {
     "name": "stdout",
     "output_type": "stream",
     "text": [
      "                   Indifferent\n",
      "Primary Fur Color             \n",
      "Black                       44\n",
      "Cinnamon                   181\n",
      "Gray                      1219\n"
     ]
    }
   ],
   "source": [
    "indifferent_color_count =  squirrel_fur.groupby(\"Primary Fur Color\").sum()\n",
    "print(indifferent_color_count)\n",
    "\n"
   ]
  },
  {
   "cell_type": "markdown",
   "metadata": {},
   "source": [
    "**Answer**: The sum function sums all bollean values and since there are some True(=1) and some False(=0), the .sum must be less than .count since the later one gives the number of objects that has a value, regardless what their value is.\n",
    "\n",
    "\n",
    "\n",
    "\n",
    "\n"
   ]
  },
  {
   "cell_type": "markdown",
   "metadata": {},
   "source": [
    "**Question 1.9 (4 points)**: Let's now join the `color_count` and `indifferent_color_count` DataFrames together to get one table that has information about both the total number of squirrels of each color and number of indifferent squirrels of each color. \n",
    "\n",
    "Since the `color_count` and `indifferent_color_count` DataFrames both have the same Index values (due the fact that the same column was passed to the `.groupby` method), we can simply use the `.join()` method to join these tables together. \n",
    "\n",
    "Please join these DataFrames together and save the result to a DataFrame called `counts_joined`. Print this DataFrame so we can see the answer. \n"
   ]
  },
  {
   "cell_type": "code",
   "execution_count": 52,
   "metadata": {},
   "outputs": [
    {
     "data": {
      "text/html": [
       "<div>\n",
       "<style scoped>\n",
       "    .dataframe tbody tr th:only-of-type {\n",
       "        vertical-align: middle;\n",
       "    }\n",
       "\n",
       "    .dataframe tbody tr th {\n",
       "        vertical-align: top;\n",
       "    }\n",
       "\n",
       "    .dataframe thead th {\n",
       "        text-align: right;\n",
       "    }\n",
       "</style>\n",
       "<table border=\"1\" class=\"dataframe\">\n",
       "  <thead>\n",
       "    <tr style=\"text-align: right;\">\n",
       "      <th></th>\n",
       "      <th>Count</th>\n",
       "      <th>Indifferent</th>\n",
       "    </tr>\n",
       "    <tr>\n",
       "      <th>Primary Fur Color</th>\n",
       "      <th></th>\n",
       "      <th></th>\n",
       "    </tr>\n",
       "  </thead>\n",
       "  <tbody>\n",
       "    <tr>\n",
       "      <th>Black</th>\n",
       "      <td>103</td>\n",
       "      <td>44</td>\n",
       "    </tr>\n",
       "    <tr>\n",
       "      <th>Cinnamon</th>\n",
       "      <td>392</td>\n",
       "      <td>181</td>\n",
       "    </tr>\n",
       "    <tr>\n",
       "      <th>Gray</th>\n",
       "      <td>2473</td>\n",
       "      <td>1219</td>\n",
       "    </tr>\n",
       "  </tbody>\n",
       "</table>\n",
       "</div>"
      ],
      "text/plain": [
       "                   Count  Indifferent\n",
       "Primary Fur Color                    \n",
       "Black                103           44\n",
       "Cinnamon             392          181\n",
       "Gray                2473         1219"
      ]
     },
     "execution_count": 52,
     "metadata": {},
     "output_type": "execute_result"
    }
   ],
   "source": [
    "counts_joined = color_count.join(indifferent_color_count,how = \"left\")\n",
    "counts_joined\n",
    "\n"
   ]
  },
  {
   "cell_type": "markdown",
   "metadata": {},
   "source": [
    "**Question 1.10 (4 points)**: Now let's use the `counts_joined` DataFrame to calculate the proportion of squirrels of each color that are indifferent. \n",
    "\n",
    "Save the results to a Series called `prop_indifferent` and print out the Series to show you have the correct answer. \n"
   ]
  },
  {
   "cell_type": "code",
   "execution_count": 56,
   "metadata": {},
   "outputs": [
    {
     "data": {
      "text/plain": [
       "Primary Fur Color\n",
       "Black       0.427184\n",
       "Cinnamon    0.461735\n",
       "Gray        0.492924\n",
       "dtype: float64"
      ]
     },
     "execution_count": 56,
     "metadata": {},
     "output_type": "execute_result"
    }
   ],
   "source": [
    "prop_indifferent = counts_joined[\"Indifferent\"]/counts_joined[\"Count\"]\n",
    "prop_indifferent\n",
    "\n",
    "\n",
    "\n"
   ]
  },
  {
   "cell_type": "markdown",
   "metadata": {},
   "source": [
    "**Question 1.11 (4 points)**: Let's now add these proportions values as a new column to our `counts_joined` DataFrame. Please do this and print out the `counts_joined` DataFrame to show it has the correct 3 columns. "
   ]
  },
  {
   "cell_type": "code",
   "execution_count": 63,
   "metadata": {},
   "outputs": [
    {
     "data": {
      "text/html": [
       "<div>\n",
       "<style scoped>\n",
       "    .dataframe tbody tr th:only-of-type {\n",
       "        vertical-align: middle;\n",
       "    }\n",
       "\n",
       "    .dataframe tbody tr th {\n",
       "        vertical-align: top;\n",
       "    }\n",
       "\n",
       "    .dataframe thead th {\n",
       "        text-align: right;\n",
       "    }\n",
       "</style>\n",
       "<table border=\"1\" class=\"dataframe\">\n",
       "  <thead>\n",
       "    <tr style=\"text-align: right;\">\n",
       "      <th></th>\n",
       "      <th>Count</th>\n",
       "      <th>Indifferent</th>\n",
       "      <th>proportion</th>\n",
       "    </tr>\n",
       "    <tr>\n",
       "      <th>Primary Fur Color</th>\n",
       "      <th></th>\n",
       "      <th></th>\n",
       "      <th></th>\n",
       "    </tr>\n",
       "  </thead>\n",
       "  <tbody>\n",
       "    <tr>\n",
       "      <th>Black</th>\n",
       "      <td>103</td>\n",
       "      <td>44</td>\n",
       "      <td>0.427184</td>\n",
       "    </tr>\n",
       "    <tr>\n",
       "      <th>Cinnamon</th>\n",
       "      <td>392</td>\n",
       "      <td>181</td>\n",
       "      <td>0.461735</td>\n",
       "    </tr>\n",
       "    <tr>\n",
       "      <th>Gray</th>\n",
       "      <td>2473</td>\n",
       "      <td>1219</td>\n",
       "      <td>0.492924</td>\n",
       "    </tr>\n",
       "  </tbody>\n",
       "</table>\n",
       "</div>"
      ],
      "text/plain": [
       "                   Count  Indifferent  proportion\n",
       "Primary Fur Color                                \n",
       "Black                103           44    0.427184\n",
       "Cinnamon             392          181    0.461735\n",
       "Gray                2473         1219    0.492924"
      ]
     },
     "execution_count": 63,
     "metadata": {},
     "output_type": "execute_result"
    }
   ],
   "source": [
    "counts_joined[\"proportion\"] = prop_indifferent\n",
    "counts_joined\n",
    "\n",
    "\n"
   ]
  },
  {
   "cell_type": "markdown",
   "metadata": {},
   "source": [
    "**Question 1.12 (4 points)**: From looking at the `counts_joined` DataFrame you printed out in the previous question, you will notice that the proportion of squirrels that are indifferent differs for the three colors of squirrels. However, you will also notice that these proportions are only slightly different. \n",
    "\n",
    "In the answer section, in 1-3 sentences, state whether you think there is a real difference between the proportion of squirrels that are indifferent depending on the color of their fur, or whether these results are due to the random sample of squirrels that were observed; e.g., if NYC residents went out and observed another set of ~3,000 squirrels, do you think the highest proportion of squirrels that were indifferent would again be the gray squirrels? \n",
    "\n",
    "Note: This type of question is what statistical analyses are useful for. We will explore this type of analysis in the second half of the semester."
   ]
  },
  {
   "cell_type": "markdown",
   "metadata": {},
   "source": [
    "**Answer** I consider there is a significant real difference of the proportion. This is because the lag between diffferent color of fur is small in absolute amount but relatively large in proportion, for instance it is $\\frac{1}{6}$ higher for the proportion of indifference in gray squirrel than the black one, which is a high proportion.\n",
    "\n",
    "\n",
    "\n",
    "\n"
   ]
  },
  {
   "cell_type": "markdown",
   "metadata": {},
   "source": [
    "## Recreating the FiveThirtyEight college major's analysis\n",
    "\n",
    "Let's now recreate the analysis that was done in the FiveThirtyEight article that you read on part 0 of this homework. In particular, we will use our sample of the ACS data to calculate average income of different college majors. \n",
    "\n",
    "Note: the ACS data has different categories of majors compared to the FiveThirtyEight data, so our results will be a bit different from the article (also our data is more recent). \n"
   ]
  },
  {
   "cell_type": "markdown",
   "metadata": {},
   "source": [
    "**Question 2.1 (2 points)**: Let's start in the usual way. The code below loads the ACS data and stores the results in the name `acs_data`. Please display the first 3 rows of this data in the cell below. \n"
   ]
  },
  {
   "cell_type": "code",
   "execution_count": 67,
   "metadata": {},
   "outputs": [],
   "source": [
    "acs_data = pd.read_csv(\"ACS_2017_sample_01.csv\")"
   ]
  },
  {
   "cell_type": "code",
   "execution_count": 69,
   "metadata": {},
   "outputs": [
    {
     "data": {
      "text/html": [
       "<div>\n",
       "<style scoped>\n",
       "    .dataframe tbody tr th:only-of-type {\n",
       "        vertical-align: middle;\n",
       "    }\n",
       "\n",
       "    .dataframe tbody tr th {\n",
       "        vertical-align: top;\n",
       "    }\n",
       "\n",
       "    .dataframe thead th {\n",
       "        text-align: right;\n",
       "    }\n",
       "</style>\n",
       "<table border=\"1\" class=\"dataframe\">\n",
       "  <thead>\n",
       "    <tr style=\"text-align: right;\">\n",
       "      <th></th>\n",
       "      <th>YEAR</th>\n",
       "      <th>SAMPLE</th>\n",
       "      <th>SERIAL</th>\n",
       "      <th>CBSERIAL</th>\n",
       "      <th>NUMPREC</th>\n",
       "      <th>HHWT</th>\n",
       "      <th>HHTYPE</th>\n",
       "      <th>CLUSTER</th>\n",
       "      <th>CPI99</th>\n",
       "      <th>STATEFIP</th>\n",
       "      <th>...</th>\n",
       "      <th>CLASSWKR</th>\n",
       "      <th>CLASSWKRD</th>\n",
       "      <th>WKSWORK2</th>\n",
       "      <th>UHRSWORK</th>\n",
       "      <th>INCBUS00</th>\n",
       "      <th>INCEARN</th>\n",
       "      <th>SEI</th>\n",
       "      <th>MOVEDIN</th>\n",
       "      <th>QBPL</th>\n",
       "      <th>QINCWAGE</th>\n",
       "    </tr>\n",
       "  </thead>\n",
       "  <tbody>\n",
       "    <tr>\n",
       "      <th>0</th>\n",
       "      <td>2017</td>\n",
       "      <td>201701</td>\n",
       "      <td>250395</td>\n",
       "      <td>2017000834943</td>\n",
       "      <td>2</td>\n",
       "      <td>79</td>\n",
       "      <td>2</td>\n",
       "      <td>2017002503951</td>\n",
       "      <td>0.679</td>\n",
       "      <td>9</td>\n",
       "      <td>...</td>\n",
       "      <td>2</td>\n",
       "      <td>28</td>\n",
       "      <td>0</td>\n",
       "      <td>0</td>\n",
       "      <td>0</td>\n",
       "      <td>0</td>\n",
       "      <td>72</td>\n",
       "      <td>7</td>\n",
       "      <td>0</td>\n",
       "      <td>0</td>\n",
       "    </tr>\n",
       "    <tr>\n",
       "      <th>1</th>\n",
       "      <td>2017</td>\n",
       "      <td>201701</td>\n",
       "      <td>1062813</td>\n",
       "      <td>2017000532479</td>\n",
       "      <td>2</td>\n",
       "      <td>27</td>\n",
       "      <td>1</td>\n",
       "      <td>2017010628131</td>\n",
       "      <td>0.679</td>\n",
       "      <td>42</td>\n",
       "      <td>...</td>\n",
       "      <td>0</td>\n",
       "      <td>0</td>\n",
       "      <td>0</td>\n",
       "      <td>0</td>\n",
       "      <td>0</td>\n",
       "      <td>0</td>\n",
       "      <td>0</td>\n",
       "      <td>5</td>\n",
       "      <td>0</td>\n",
       "      <td>0</td>\n",
       "    </tr>\n",
       "    <tr>\n",
       "      <th>2</th>\n",
       "      <td>2017</td>\n",
       "      <td>201701</td>\n",
       "      <td>1235164</td>\n",
       "      <td>2017001001296</td>\n",
       "      <td>1</td>\n",
       "      <td>48</td>\n",
       "      <td>6</td>\n",
       "      <td>2017012351641</td>\n",
       "      <td>0.679</td>\n",
       "      <td>48</td>\n",
       "      <td>...</td>\n",
       "      <td>1</td>\n",
       "      <td>13</td>\n",
       "      <td>1</td>\n",
       "      <td>2</td>\n",
       "      <td>50</td>\n",
       "      <td>150</td>\n",
       "      <td>22</td>\n",
       "      <td>4</td>\n",
       "      <td>0</td>\n",
       "      <td>0</td>\n",
       "    </tr>\n",
       "  </tbody>\n",
       "</table>\n",
       "<p>3 rows × 61 columns</p>\n",
       "</div>"
      ],
      "text/plain": [
       "   YEAR  SAMPLE   SERIAL       CBSERIAL  NUMPREC  HHWT  HHTYPE        CLUSTER  \\\n",
       "0  2017  201701   250395  2017000834943        2    79       2  2017002503951   \n",
       "1  2017  201701  1062813  2017000532479        2    27       1  2017010628131   \n",
       "2  2017  201701  1235164  2017001001296        1    48       6  2017012351641   \n",
       "\n",
       "   CPI99  STATEFIP  ...  CLASSWKR  CLASSWKRD  WKSWORK2  UHRSWORK  INCBUS00  \\\n",
       "0  0.679         9  ...         2         28         0         0         0   \n",
       "1  0.679        42  ...         0          0         0         0         0   \n",
       "2  0.679        48  ...         1         13         1         2        50   \n",
       "\n",
       "   INCEARN  SEI  MOVEDIN  QBPL  QINCWAGE  \n",
       "0        0   72        7     0         0  \n",
       "1        0    0        5     0         0  \n",
       "2      150   22        4     0         0  \n",
       "\n",
       "[3 rows x 61 columns]"
      ]
     },
     "execution_count": 69,
     "metadata": {},
     "output_type": "execute_result"
    }
   ],
   "source": [
    "acs_data.head(3)\n",
    "\n"
   ]
  },
  {
   "cell_type": "markdown",
   "metadata": {},
   "source": [
    "**Question 2.2 (4 points):** As you are aware, there are many columns in our ACS data. To make the data easier to manage, let's reduce the data to only the two columns we care about which are:\n",
    "\n",
    "- `DEGFIELD`: A code indicating which field of study an individual majored in\n",
    "- `INCEARN`: The earned income an individual made\n",
    "\n",
    "Create a DataFrame called `acs_data2` that only has data from these columns, and print the first 3 rows to show your code worked. \n"
   ]
  },
  {
   "cell_type": "code",
   "execution_count": 72,
   "metadata": {},
   "outputs": [
    {
     "data": {
      "text/html": [
       "<div>\n",
       "<style scoped>\n",
       "    .dataframe tbody tr th:only-of-type {\n",
       "        vertical-align: middle;\n",
       "    }\n",
       "\n",
       "    .dataframe tbody tr th {\n",
       "        vertical-align: top;\n",
       "    }\n",
       "\n",
       "    .dataframe thead th {\n",
       "        text-align: right;\n",
       "    }\n",
       "</style>\n",
       "<table border=\"1\" class=\"dataframe\">\n",
       "  <thead>\n",
       "    <tr style=\"text-align: right;\">\n",
       "      <th></th>\n",
       "      <th>DEGFIELD</th>\n",
       "      <th>INCEARN</th>\n",
       "    </tr>\n",
       "  </thead>\n",
       "  <tbody>\n",
       "    <tr>\n",
       "      <th>0</th>\n",
       "      <td>23</td>\n",
       "      <td>0</td>\n",
       "    </tr>\n",
       "    <tr>\n",
       "      <th>1</th>\n",
       "      <td>0</td>\n",
       "      <td>0</td>\n",
       "    </tr>\n",
       "    <tr>\n",
       "      <th>2</th>\n",
       "      <td>0</td>\n",
       "      <td>150</td>\n",
       "    </tr>\n",
       "  </tbody>\n",
       "</table>\n",
       "</div>"
      ],
      "text/plain": [
       "   DEGFIELD  INCEARN\n",
       "0        23        0\n",
       "1         0        0\n",
       "2         0      150"
      ]
     },
     "execution_count": 72,
     "metadata": {},
     "output_type": "execute_result"
    }
   ],
   "source": [
    "acs_data2 = acs_data[[\"DEGFIELD\",\"INCEARN\"]]\n",
    "acs_data2.head(3)\n",
    "\n"
   ]
  },
  {
   "cell_type": "markdown",
   "metadata": {},
   "source": [
    "**Question 2.3 (4 points):**  Let's now look at how many unique majors there are in our data. Please print out an ndarray that contains all the unique major numbers. Also print out the number of unique majors there are.\n",
    "\n",
    "Hint: `np.unique()` could be useful here. "
   ]
  },
  {
   "cell_type": "code",
   "execution_count": 76,
   "metadata": {},
   "outputs": [
    {
     "name": "stdout",
     "output_type": "stream",
     "text": [
      "[ 0 11 13 14 15 19 20 21 23 24 25 26 29 32 33 34 35 36 37 40 41 48 49 50\n",
      " 52 53 54 55 56 59 60 61 62 64]\n",
      "34\n"
     ]
    }
   ],
   "source": [
    "print(np.unique(acs_data2[\"DEGFIELD\"]))\n",
    "print(len(np.unique(acs_data2[\"DEGFIELD\"])))\n",
    "\n"
   ]
  },
  {
   "cell_type": "markdown",
   "metadata": {},
   "source": [
    "**Question 2.4 (2 points)**: As you will have noticed, identifying college majors by a numeric code makes the data hard to interpret. A large part of Data Science consists of converting this type of more raw data, into more meaningful names using codebooks. A codebook that explains what these numeric codes mean can be [found here](https://usa.ipums.org/usa-action/variables/DEGFIELD#codes_section). \n",
    "\n",
    "Fortunately, someone has made this process converting codes to more meaningful names easier for you by creating a file with this codebook information!\n",
    "\n",
    "The codebook is loaded as a DataFrame named `major_codes` in the cell below. Please print out the first 5 rows of this codebook DataFrame. \n"
   ]
  },
  {
   "cell_type": "code",
   "execution_count": 83,
   "metadata": {},
   "outputs": [
    {
     "data": {
      "text/html": [
       "<div>\n",
       "<style scoped>\n",
       "    .dataframe tbody tr th:only-of-type {\n",
       "        vertical-align: middle;\n",
       "    }\n",
       "\n",
       "    .dataframe tbody tr th {\n",
       "        vertical-align: top;\n",
       "    }\n",
       "\n",
       "    .dataframe thead th {\n",
       "        text-align: right;\n",
       "    }\n",
       "</style>\n",
       "<table border=\"1\" class=\"dataframe\">\n",
       "  <thead>\n",
       "    <tr style=\"text-align: right;\">\n",
       "      <th></th>\n",
       "      <th>Code</th>\n",
       "      <th>Label</th>\n",
       "    </tr>\n",
       "  </thead>\n",
       "  <tbody>\n",
       "    <tr>\n",
       "      <th>0</th>\n",
       "      <td>0</td>\n",
       "      <td>NaN</td>\n",
       "    </tr>\n",
       "    <tr>\n",
       "      <th>1</th>\n",
       "      <td>11</td>\n",
       "      <td>Agriculture</td>\n",
       "    </tr>\n",
       "    <tr>\n",
       "      <th>2</th>\n",
       "      <td>13</td>\n",
       "      <td>Environment and Natural Resources</td>\n",
       "    </tr>\n",
       "    <tr>\n",
       "      <th>3</th>\n",
       "      <td>14</td>\n",
       "      <td>Architecture</td>\n",
       "    </tr>\n",
       "    <tr>\n",
       "      <th>4</th>\n",
       "      <td>15</td>\n",
       "      <td>Area, Ethnic, and Civilization Studies</td>\n",
       "    </tr>\n",
       "  </tbody>\n",
       "</table>\n",
       "</div>"
      ],
      "text/plain": [
       "   Code                                   Label\n",
       "0     0                                     NaN\n",
       "1    11                             Agriculture\n",
       "2    13       Environment and Natural Resources\n",
       "3    14                            Architecture\n",
       "4    15  Area, Ethnic, and Civilization Studies"
      ]
     },
     "execution_count": 83,
     "metadata": {},
     "output_type": "execute_result"
    }
   ],
   "source": [
    "major_codes = pd.read_csv(\"ACS_major_codes.tsv\", sep = \"\\t\")\n",
    "major_codes.head()\n",
    "\n",
    "\n"
   ]
  },
  {
   "cell_type": "markdown",
   "metadata": {},
   "source": [
    "**Question 2.5 (5 points)**:  Let's now join the names in the `major_codes` DataFrame onto the `acs_data2` DataFrame, so that each row of the `acs_data2` has a more meaningful major name as well as just a numeric code. \n",
    "\n",
    "Since we are joining our DataFrames based on values in a *column* (rather than based on Index values) we will use the `.merge()` method. Some arguments that will be useful when using the `.merge()` method are: \n",
    "- `left_on`: The name of the column in the left DataFrame\n",
    "- `right_on`: The name of the column on the right DataFrame\n",
    "- `how`: whether it should be a \"left\", \"right\", \"inner\", \"outer\", etc. \n",
    "\n",
    "Save the results of the joined DataFrame in the name `acs_data3` and print out the first three rows of the DataFrame to show your work. \n",
    "\n",
    "Hint: Think carefully about what type of join you would like to do, and then use `how` and the other column names appropriately.\n"
   ]
  },
  {
   "cell_type": "code",
   "execution_count": 86,
   "metadata": {},
   "outputs": [
    {
     "data": {
      "text/html": [
       "<div>\n",
       "<style scoped>\n",
       "    .dataframe tbody tr th:only-of-type {\n",
       "        vertical-align: middle;\n",
       "    }\n",
       "\n",
       "    .dataframe tbody tr th {\n",
       "        vertical-align: top;\n",
       "    }\n",
       "\n",
       "    .dataframe thead th {\n",
       "        text-align: right;\n",
       "    }\n",
       "</style>\n",
       "<table border=\"1\" class=\"dataframe\">\n",
       "  <thead>\n",
       "    <tr style=\"text-align: right;\">\n",
       "      <th></th>\n",
       "      <th>DEGFIELD</th>\n",
       "      <th>INCEARN</th>\n",
       "      <th>Code</th>\n",
       "      <th>Label</th>\n",
       "    </tr>\n",
       "  </thead>\n",
       "  <tbody>\n",
       "    <tr>\n",
       "      <th>0</th>\n",
       "      <td>23</td>\n",
       "      <td>0</td>\n",
       "      <td>23</td>\n",
       "      <td>Education Administration and Teaching</td>\n",
       "    </tr>\n",
       "    <tr>\n",
       "      <th>1</th>\n",
       "      <td>0</td>\n",
       "      <td>0</td>\n",
       "      <td>0</td>\n",
       "      <td>NaN</td>\n",
       "    </tr>\n",
       "    <tr>\n",
       "      <th>2</th>\n",
       "      <td>0</td>\n",
       "      <td>150</td>\n",
       "      <td>0</td>\n",
       "      <td>NaN</td>\n",
       "    </tr>\n",
       "  </tbody>\n",
       "</table>\n",
       "</div>"
      ],
      "text/plain": [
       "   DEGFIELD  INCEARN  Code                                  Label\n",
       "0        23        0    23  Education Administration and Teaching\n",
       "1         0        0     0                                    NaN\n",
       "2         0      150     0                                    NaN"
      ]
     },
     "execution_count": 86,
     "metadata": {},
     "output_type": "execute_result"
    }
   ],
   "source": [
    "acs_data3 = acs_data2.merge(major_codes,how=\"left\",left_on=\"DEGFIELD\",right_on=\"Code\")\n",
    "acs_data3.head(3)\n",
    "\n",
    "\n"
   ]
  },
  {
   "cell_type": "markdown",
   "metadata": {},
   "source": [
    "**Question 2.6 (4 points)**: Let's rename some of the columns in our DataFrame to have more meaningful names. In particular, please rename: \n",
    "\n",
    "- \"INCEARN\" to be \"Income\"\n",
    "- \"Label\" to be \"Major\"\n",
    "\n",
    "Save the results to the name `acs_data4` and as always, print the first 3 rows. \n",
    "\n",
    "Hint: Recall from your analysis of the squirrel data that you can rename columns using a dictionary and the `.rename(columns = rename_dictionary)` method.\n"
   ]
  },
  {
   "cell_type": "code",
   "execution_count": 91,
   "metadata": {},
   "outputs": [
    {
     "data": {
      "text/html": [
       "<div>\n",
       "<style scoped>\n",
       "    .dataframe tbody tr th:only-of-type {\n",
       "        vertical-align: middle;\n",
       "    }\n",
       "\n",
       "    .dataframe tbody tr th {\n",
       "        vertical-align: top;\n",
       "    }\n",
       "\n",
       "    .dataframe thead th {\n",
       "        text-align: right;\n",
       "    }\n",
       "</style>\n",
       "<table border=\"1\" class=\"dataframe\">\n",
       "  <thead>\n",
       "    <tr style=\"text-align: right;\">\n",
       "      <th></th>\n",
       "      <th>DEGFIELD</th>\n",
       "      <th>Income</th>\n",
       "      <th>Code</th>\n",
       "      <th>Major</th>\n",
       "    </tr>\n",
       "  </thead>\n",
       "  <tbody>\n",
       "    <tr>\n",
       "      <th>0</th>\n",
       "      <td>23</td>\n",
       "      <td>0</td>\n",
       "      <td>23</td>\n",
       "      <td>Education Administration and Teaching</td>\n",
       "    </tr>\n",
       "    <tr>\n",
       "      <th>1</th>\n",
       "      <td>0</td>\n",
       "      <td>0</td>\n",
       "      <td>0</td>\n",
       "      <td>NaN</td>\n",
       "    </tr>\n",
       "    <tr>\n",
       "      <th>2</th>\n",
       "      <td>0</td>\n",
       "      <td>150</td>\n",
       "      <td>0</td>\n",
       "      <td>NaN</td>\n",
       "    </tr>\n",
       "  </tbody>\n",
       "</table>\n",
       "</div>"
      ],
      "text/plain": [
       "   DEGFIELD  Income  Code                                  Major\n",
       "0        23       0    23  Education Administration and Teaching\n",
       "1         0       0     0                                    NaN\n",
       "2         0     150     0                                    NaN"
      ]
     },
     "execution_count": 91,
     "metadata": {},
     "output_type": "execute_result"
    }
   ],
   "source": [
    "acs_data4 = acs_data3.rename(columns={\"INCEARN\":\"Income\",\"Label\":\"Major\"})\n",
    "acs_data4.head(3)"
   ]
  },
  {
   "cell_type": "markdown",
   "metadata": {},
   "source": [
    "**Question 2.7 (4 points)**: Now that we have meaningful names in our DataFrame, let's get rid of the college major codes which we will no longer need. \n",
    "\n",
    "Please create a DataFrame called `acs_data5` that has only the \"Income\" and \"Major\" columns, and print the first 3 rows.\n"
   ]
  },
  {
   "cell_type": "code",
   "execution_count": 95,
   "metadata": {},
   "outputs": [
    {
     "data": {
      "text/html": [
       "<div>\n",
       "<style scoped>\n",
       "    .dataframe tbody tr th:only-of-type {\n",
       "        vertical-align: middle;\n",
       "    }\n",
       "\n",
       "    .dataframe tbody tr th {\n",
       "        vertical-align: top;\n",
       "    }\n",
       "\n",
       "    .dataframe thead th {\n",
       "        text-align: right;\n",
       "    }\n",
       "</style>\n",
       "<table border=\"1\" class=\"dataframe\">\n",
       "  <thead>\n",
       "    <tr style=\"text-align: right;\">\n",
       "      <th></th>\n",
       "      <th>Income</th>\n",
       "      <th>Major</th>\n",
       "    </tr>\n",
       "  </thead>\n",
       "  <tbody>\n",
       "    <tr>\n",
       "      <th>0</th>\n",
       "      <td>0</td>\n",
       "      <td>Education Administration and Teaching</td>\n",
       "    </tr>\n",
       "    <tr>\n",
       "      <th>1</th>\n",
       "      <td>0</td>\n",
       "      <td>NaN</td>\n",
       "    </tr>\n",
       "    <tr>\n",
       "      <th>2</th>\n",
       "      <td>150</td>\n",
       "      <td>NaN</td>\n",
       "    </tr>\n",
       "  </tbody>\n",
       "</table>\n",
       "</div>"
      ],
      "text/plain": [
       "   Income                                  Major\n",
       "0       0  Education Administration and Teaching\n",
       "1       0                                    NaN\n",
       "2     150                                    NaN"
      ]
     },
     "execution_count": 95,
     "metadata": {},
     "output_type": "execute_result"
    }
   ],
   "source": [
    "acs_data5 = acs_data4[[\"Income\",\"Major\"]]\n",
    "acs_data5.head(3)\n",
    "\n"
   ]
  },
  {
   "cell_type": "markdown",
   "metadata": {},
   "source": [
    "**Question 2.8 (5 points)**: Now let's compute the mean and median salaries separately for each major. Let's also get the counts of how many people we have in our data for each major. \n",
    "\n",
    "To do this, you can group the input DataFrame ('acs_data5') by major. Then use the `.agg()` method where you specify tuples indicating the column you want to apply a function to, and the function you want to use. For example, we could use code in the form:\n",
    "\n",
    "<pre>\n",
    "my_aggregated_results = input_df.groupby(\"grouping_col_name\").agg(\n",
    "    output_col_name1 =('column_to_summarize1', 'statistic_name1'),\n",
    "    output_col_name2 =('column_to_summarize2', 'statistic_name2'),\n",
    "    output_col_name3 =('column_to_summarize3', 'statistic_name3'),\n",
    "\n",
    ")\n",
    "</pre>\n",
    "\n",
    "Where:\n",
    "- `input_df`: is the DataFrame we want to get summary statistics from\n",
    "- `\"grouping_col_name\"`: is the column we want to use to group our input_df DataFrame\n",
    "- `output_col_name1`: is the name of the column where we want to save the statistic we calculate\n",
    "- `'column_to_summarize1'` is the name of column we want to use to get our statistic from\n",
    "- `'statistic_name1'` is the name of the statistic function we want to apply\n",
    "- same for `output_col_name2`, `column_to_summarize2`, etc. \n",
    "\n",
    "Please create a DataFrame called `major_stats` that has the count, mean, and median for each college major area; i.e., `major_stats` should have an index which is the college major area, and there should be three columns called `count`, `mean` and `median` which corresponds to statistical summaries of the `acs_data5` DataFrame. As always, show the first 3 rows of the results to show your work. \n"
   ]
  },
  {
   "cell_type": "code",
   "execution_count": 111,
   "metadata": {},
   "outputs": [
    {
     "data": {
      "text/html": [
       "<div>\n",
       "<style scoped>\n",
       "    .dataframe tbody tr th:only-of-type {\n",
       "        vertical-align: middle;\n",
       "    }\n",
       "\n",
       "    .dataframe tbody tr th {\n",
       "        vertical-align: top;\n",
       "    }\n",
       "\n",
       "    .dataframe thead th {\n",
       "        text-align: right;\n",
       "    }\n",
       "</style>\n",
       "<table border=\"1\" class=\"dataframe\">\n",
       "  <thead>\n",
       "    <tr style=\"text-align: right;\">\n",
       "      <th></th>\n",
       "      <th>count</th>\n",
       "      <th>mean</th>\n",
       "      <th>median</th>\n",
       "    </tr>\n",
       "    <tr>\n",
       "      <th>Major</th>\n",
       "      <th></th>\n",
       "      <th></th>\n",
       "      <th></th>\n",
       "    </tr>\n",
       "  </thead>\n",
       "  <tbody>\n",
       "    <tr>\n",
       "      <th>Agriculture</th>\n",
       "      <td>18</td>\n",
       "      <td>84783.333333</td>\n",
       "      <td>36000.0</td>\n",
       "    </tr>\n",
       "    <tr>\n",
       "      <th>Architecture</th>\n",
       "      <td>18</td>\n",
       "      <td>46244.444444</td>\n",
       "      <td>27500.0</td>\n",
       "    </tr>\n",
       "    <tr>\n",
       "      <th>Area, Ethnic, and Civilization Studies</th>\n",
       "      <td>5</td>\n",
       "      <td>24600.000000</td>\n",
       "      <td>0.0</td>\n",
       "    </tr>\n",
       "  </tbody>\n",
       "</table>\n",
       "</div>"
      ],
      "text/plain": [
       "                                        count          mean   median\n",
       "Major                                                               \n",
       "Agriculture                                18  84783.333333  36000.0\n",
       "Architecture                               18  46244.444444  27500.0\n",
       "Area, Ethnic, and Civilization Studies      5  24600.000000      0.0"
      ]
     },
     "execution_count": 111,
     "metadata": {},
     "output_type": "execute_result"
    }
   ],
   "source": [
    "major_stats = acs_data5.groupby(\"Major\").agg(\n",
    "    count = (\"Income\",\"count\"),\n",
    "    mean = (\"Income\",\"mean\"),\n",
    "    median = (\"Income\",\"median\"),\n",
    ")\n",
    "major_stats.head(3)\n",
    "\n",
    "\n",
    "\n"
   ]
  },
  {
   "cell_type": "markdown",
   "metadata": {},
   "source": [
    "**Question 2.9 (4 points)**: You will notice from looking at the `major_stats` DataFrame that the decimal places in the data make the values in the DataFrame hard to read. To deal with this we could round the data, but an even nicer way to make the data legible is to convert all values into integers. \n",
    "\n",
    "Please convert all the values in the data frame to integers and save the results to a DataFrame called `major_stats2`. As always, \"show your work\".  \n",
    "\n",
    "Hint: the `.astype()` method could be useful here.\n"
   ]
  },
  {
   "cell_type": "code",
   "execution_count": 113,
   "metadata": {},
   "outputs": [
    {
     "data": {
      "text/html": [
       "<div>\n",
       "<style scoped>\n",
       "    .dataframe tbody tr th:only-of-type {\n",
       "        vertical-align: middle;\n",
       "    }\n",
       "\n",
       "    .dataframe tbody tr th {\n",
       "        vertical-align: top;\n",
       "    }\n",
       "\n",
       "    .dataframe thead th {\n",
       "        text-align: right;\n",
       "    }\n",
       "</style>\n",
       "<table border=\"1\" class=\"dataframe\">\n",
       "  <thead>\n",
       "    <tr style=\"text-align: right;\">\n",
       "      <th></th>\n",
       "      <th>count</th>\n",
       "      <th>mean</th>\n",
       "      <th>median</th>\n",
       "    </tr>\n",
       "    <tr>\n",
       "      <th>Major</th>\n",
       "      <th></th>\n",
       "      <th></th>\n",
       "      <th></th>\n",
       "    </tr>\n",
       "  </thead>\n",
       "  <tbody>\n",
       "    <tr>\n",
       "      <th>Agriculture</th>\n",
       "      <td>18</td>\n",
       "      <td>84783</td>\n",
       "      <td>36000</td>\n",
       "    </tr>\n",
       "    <tr>\n",
       "      <th>Architecture</th>\n",
       "      <td>18</td>\n",
       "      <td>46244</td>\n",
       "      <td>27500</td>\n",
       "    </tr>\n",
       "    <tr>\n",
       "      <th>Area, Ethnic, and Civilization Studies</th>\n",
       "      <td>5</td>\n",
       "      <td>24600</td>\n",
       "      <td>0</td>\n",
       "    </tr>\n",
       "  </tbody>\n",
       "</table>\n",
       "</div>"
      ],
      "text/plain": [
       "                                        count   mean  median\n",
       "Major                                                       \n",
       "Agriculture                                18  84783   36000\n",
       "Architecture                               18  46244   27500\n",
       "Area, Ethnic, and Civilization Studies      5  24600       0"
      ]
     },
     "execution_count": 113,
     "metadata": {},
     "output_type": "execute_result"
    }
   ],
   "source": [
    "major_stats2 = major_stats.astype(\"int\")\n",
    "major_stats2.head(3)\n",
    "\n"
   ]
  },
  {
   "cell_type": "markdown",
   "metadata": {},
   "source": [
    "**Question 2.10 (5 points)**: You will also notice from looking at the `count` column that there are some majors where there were only a few people in our dataset that had that major. Because of these small numbers, our statistics for these majors will be unreliable. \n",
    "\n",
    "While we could deal with this issue here by looking at a larger dataset (rather than just a smaller random sample), for the sake of simplicity, let's just remove all majors that have counts less than 30. \n",
    "\n",
    "Please create a DataFrame called `major_stats3` that only has rows from `major_stats2` where there were more than 30 or more majors in our dataset. Print the results to show your work. \n",
    "\n",
    "Hint: Boolean masking could be useful here!"
   ]
  },
  {
   "cell_type": "code",
   "execution_count": 120,
   "metadata": {},
   "outputs": [
    {
     "data": {
      "text/html": [
       "<div>\n",
       "<style scoped>\n",
       "    .dataframe tbody tr th:only-of-type {\n",
       "        vertical-align: middle;\n",
       "    }\n",
       "\n",
       "    .dataframe tbody tr th {\n",
       "        vertical-align: top;\n",
       "    }\n",
       "\n",
       "    .dataframe thead th {\n",
       "        text-align: right;\n",
       "    }\n",
       "</style>\n",
       "<table border=\"1\" class=\"dataframe\">\n",
       "  <thead>\n",
       "    <tr style=\"text-align: right;\">\n",
       "      <th></th>\n",
       "      <th>count</th>\n",
       "      <th>mean</th>\n",
       "      <th>median</th>\n",
       "    </tr>\n",
       "    <tr>\n",
       "      <th>Major</th>\n",
       "      <th></th>\n",
       "      <th></th>\n",
       "      <th></th>\n",
       "    </tr>\n",
       "  </thead>\n",
       "  <tbody>\n",
       "    <tr>\n",
       "      <th>Biology and Life Sciences</th>\n",
       "      <td>107</td>\n",
       "      <td>76960</td>\n",
       "      <td>55000</td>\n",
       "    </tr>\n",
       "    <tr>\n",
       "      <th>Business</th>\n",
       "      <td>485</td>\n",
       "      <td>64302</td>\n",
       "      <td>42500</td>\n",
       "    </tr>\n",
       "    <tr>\n",
       "      <th>Communications</th>\n",
       "      <td>83</td>\n",
       "      <td>70038</td>\n",
       "      <td>50000</td>\n",
       "    </tr>\n",
       "    <tr>\n",
       "      <th>Computer and Information Sciences</th>\n",
       "      <td>60</td>\n",
       "      <td>92122</td>\n",
       "      <td>74500</td>\n",
       "    </tr>\n",
       "    <tr>\n",
       "      <th>Criminal Justice and Fire Protection</th>\n",
       "      <td>49</td>\n",
       "      <td>55866</td>\n",
       "      <td>55000</td>\n",
       "    </tr>\n",
       "    <tr>\n",
       "      <th>Education Administration and Teaching</th>\n",
       "      <td>329</td>\n",
       "      <td>30110</td>\n",
       "      <td>12000</td>\n",
       "    </tr>\n",
       "    <tr>\n",
       "      <th>Engineering</th>\n",
       "      <td>200</td>\n",
       "      <td>68090</td>\n",
       "      <td>54500</td>\n",
       "    </tr>\n",
       "    <tr>\n",
       "      <th>English Language, Literature, and Composition</th>\n",
       "      <td>72</td>\n",
       "      <td>47518</td>\n",
       "      <td>39500</td>\n",
       "    </tr>\n",
       "    <tr>\n",
       "      <th>Fine Arts</th>\n",
       "      <td>117</td>\n",
       "      <td>47930</td>\n",
       "      <td>32000</td>\n",
       "    </tr>\n",
       "    <tr>\n",
       "      <th>History</th>\n",
       "      <td>44</td>\n",
       "      <td>58438</td>\n",
       "      <td>27500</td>\n",
       "    </tr>\n",
       "    <tr>\n",
       "      <th>Liberal Arts and Humanities</th>\n",
       "      <td>41</td>\n",
       "      <td>53819</td>\n",
       "      <td>50000</td>\n",
       "    </tr>\n",
       "    <tr>\n",
       "      <th>Mathematics and Statistics</th>\n",
       "      <td>33</td>\n",
       "      <td>46963</td>\n",
       "      <td>20000</td>\n",
       "    </tr>\n",
       "    <tr>\n",
       "      <th>Medical and Health Sciences and Services</th>\n",
       "      <td>179</td>\n",
       "      <td>52230</td>\n",
       "      <td>54000</td>\n",
       "    </tr>\n",
       "    <tr>\n",
       "      <th>Physical Fitness, Parks, Recreation, and Leisure</th>\n",
       "      <td>33</td>\n",
       "      <td>55524</td>\n",
       "      <td>40000</td>\n",
       "    </tr>\n",
       "    <tr>\n",
       "      <th>Physical Sciences</th>\n",
       "      <td>77</td>\n",
       "      <td>79300</td>\n",
       "      <td>45800</td>\n",
       "    </tr>\n",
       "    <tr>\n",
       "      <th>Psychology</th>\n",
       "      <td>114</td>\n",
       "      <td>56819</td>\n",
       "      <td>31000</td>\n",
       "    </tr>\n",
       "    <tr>\n",
       "      <th>Social Sciences</th>\n",
       "      <td>176</td>\n",
       "      <td>57148</td>\n",
       "      <td>36250</td>\n",
       "    </tr>\n",
       "  </tbody>\n",
       "</table>\n",
       "</div>"
      ],
      "text/plain": [
       "                                                  count   mean  median\n",
       "Major                                                                 \n",
       "Biology and Life Sciences                           107  76960   55000\n",
       "Business                                            485  64302   42500\n",
       "Communications                                       83  70038   50000\n",
       "Computer and Information Sciences                    60  92122   74500\n",
       "Criminal Justice and Fire Protection                 49  55866   55000\n",
       "Education Administration and Teaching               329  30110   12000\n",
       "Engineering                                         200  68090   54500\n",
       "English Language, Literature, and Composition        72  47518   39500\n",
       "Fine Arts                                           117  47930   32000\n",
       "History                                              44  58438   27500\n",
       "Liberal Arts and Humanities                          41  53819   50000\n",
       "Mathematics and Statistics                           33  46963   20000\n",
       "Medical and Health Sciences and Services            179  52230   54000\n",
       "Physical Fitness, Parks, Recreation, and Leisure     33  55524   40000\n",
       "Physical Sciences                                    77  79300   45800\n",
       "Psychology                                          114  56819   31000\n",
       "Social Sciences                                     176  57148   36250"
      ]
     },
     "execution_count": 120,
     "metadata": {},
     "output_type": "execute_result"
    }
   ],
   "source": [
    "major_stats3 = major_stats2[major_stats2[\"count\"]>30]\n",
    "major_stats3\n",
    "\n",
    "\n"
   ]
  },
  {
   "cell_type": "markdown",
   "metadata": {},
   "source": [
    "**Question 2.11 (5 points)**: Finally, let's sort our data to see which majors make the most money!  \n",
    "\n",
    "Please sort the data based on the mean income level. In particular, sort the data so that majors that make the most money appear at the top of the DataFrame. Save it to the name `major_stats4`, and then print the full DataFrame to see which majors make the most money. \n",
    "\n",
    "In the answer section, report if there might be some upsides to suffering through these homework problems in order to learn more Data Science.\n"
   ]
  },
  {
   "cell_type": "code",
   "execution_count": 130,
   "metadata": {},
   "outputs": [
    {
     "data": {
      "text/html": [
       "<div>\n",
       "<style scoped>\n",
       "    .dataframe tbody tr th:only-of-type {\n",
       "        vertical-align: middle;\n",
       "    }\n",
       "\n",
       "    .dataframe tbody tr th {\n",
       "        vertical-align: top;\n",
       "    }\n",
       "\n",
       "    .dataframe thead th {\n",
       "        text-align: right;\n",
       "    }\n",
       "</style>\n",
       "<table border=\"1\" class=\"dataframe\">\n",
       "  <thead>\n",
       "    <tr style=\"text-align: right;\">\n",
       "      <th></th>\n",
       "      <th>count</th>\n",
       "      <th>mean</th>\n",
       "      <th>median</th>\n",
       "    </tr>\n",
       "    <tr>\n",
       "      <th>Major</th>\n",
       "      <th></th>\n",
       "      <th></th>\n",
       "      <th></th>\n",
       "    </tr>\n",
       "  </thead>\n",
       "  <tbody>\n",
       "    <tr>\n",
       "      <th>Computer and Information Sciences</th>\n",
       "      <td>60</td>\n",
       "      <td>92122</td>\n",
       "      <td>74500</td>\n",
       "    </tr>\n",
       "    <tr>\n",
       "      <th>Physical Sciences</th>\n",
       "      <td>77</td>\n",
       "      <td>79300</td>\n",
       "      <td>45800</td>\n",
       "    </tr>\n",
       "    <tr>\n",
       "      <th>Biology and Life Sciences</th>\n",
       "      <td>107</td>\n",
       "      <td>76960</td>\n",
       "      <td>55000</td>\n",
       "    </tr>\n",
       "    <tr>\n",
       "      <th>Communications</th>\n",
       "      <td>83</td>\n",
       "      <td>70038</td>\n",
       "      <td>50000</td>\n",
       "    </tr>\n",
       "    <tr>\n",
       "      <th>Engineering</th>\n",
       "      <td>200</td>\n",
       "      <td>68090</td>\n",
       "      <td>54500</td>\n",
       "    </tr>\n",
       "    <tr>\n",
       "      <th>Business</th>\n",
       "      <td>485</td>\n",
       "      <td>64302</td>\n",
       "      <td>42500</td>\n",
       "    </tr>\n",
       "    <tr>\n",
       "      <th>History</th>\n",
       "      <td>44</td>\n",
       "      <td>58438</td>\n",
       "      <td>27500</td>\n",
       "    </tr>\n",
       "    <tr>\n",
       "      <th>Social Sciences</th>\n",
       "      <td>176</td>\n",
       "      <td>57148</td>\n",
       "      <td>36250</td>\n",
       "    </tr>\n",
       "    <tr>\n",
       "      <th>Psychology</th>\n",
       "      <td>114</td>\n",
       "      <td>56819</td>\n",
       "      <td>31000</td>\n",
       "    </tr>\n",
       "    <tr>\n",
       "      <th>Criminal Justice and Fire Protection</th>\n",
       "      <td>49</td>\n",
       "      <td>55866</td>\n",
       "      <td>55000</td>\n",
       "    </tr>\n",
       "    <tr>\n",
       "      <th>Physical Fitness, Parks, Recreation, and Leisure</th>\n",
       "      <td>33</td>\n",
       "      <td>55524</td>\n",
       "      <td>40000</td>\n",
       "    </tr>\n",
       "    <tr>\n",
       "      <th>Liberal Arts and Humanities</th>\n",
       "      <td>41</td>\n",
       "      <td>53819</td>\n",
       "      <td>50000</td>\n",
       "    </tr>\n",
       "    <tr>\n",
       "      <th>Medical and Health Sciences and Services</th>\n",
       "      <td>179</td>\n",
       "      <td>52230</td>\n",
       "      <td>54000</td>\n",
       "    </tr>\n",
       "    <tr>\n",
       "      <th>Fine Arts</th>\n",
       "      <td>117</td>\n",
       "      <td>47930</td>\n",
       "      <td>32000</td>\n",
       "    </tr>\n",
       "    <tr>\n",
       "      <th>English Language, Literature, and Composition</th>\n",
       "      <td>72</td>\n",
       "      <td>47518</td>\n",
       "      <td>39500</td>\n",
       "    </tr>\n",
       "    <tr>\n",
       "      <th>Mathematics and Statistics</th>\n",
       "      <td>33</td>\n",
       "      <td>46963</td>\n",
       "      <td>20000</td>\n",
       "    </tr>\n",
       "    <tr>\n",
       "      <th>Education Administration and Teaching</th>\n",
       "      <td>329</td>\n",
       "      <td>30110</td>\n",
       "      <td>12000</td>\n",
       "    </tr>\n",
       "  </tbody>\n",
       "</table>\n",
       "</div>"
      ],
      "text/plain": [
       "                                                  count   mean  median\n",
       "Major                                                                 \n",
       "Computer and Information Sciences                    60  92122   74500\n",
       "Physical Sciences                                    77  79300   45800\n",
       "Biology and Life Sciences                           107  76960   55000\n",
       "Communications                                       83  70038   50000\n",
       "Engineering                                         200  68090   54500\n",
       "Business                                            485  64302   42500\n",
       "History                                              44  58438   27500\n",
       "Social Sciences                                     176  57148   36250\n",
       "Psychology                                          114  56819   31000\n",
       "Criminal Justice and Fire Protection                 49  55866   55000\n",
       "Physical Fitness, Parks, Recreation, and Leisure     33  55524   40000\n",
       "Liberal Arts and Humanities                          41  53819   50000\n",
       "Medical and Health Sciences and Services            179  52230   54000\n",
       "Fine Arts                                           117  47930   32000\n",
       "English Language, Literature, and Composition        72  47518   39500\n",
       "Mathematics and Statistics                           33  46963   20000\n",
       "Education Administration and Teaching               329  30110   12000"
      ]
     },
     "execution_count": 130,
     "metadata": {},
     "output_type": "execute_result"
    }
   ],
   "source": [
    "\n",
    "major_stats4 = major_stats3.sort_values(\"mean\",ascending=False)\n",
    "major_stats4\n",
    "\n"
   ]
  },
  {
   "cell_type": "markdown",
   "metadata": {},
   "source": [
    "**Answer** It seems so since student major in computer and information sciences has the highest mean of Income.\n",
    "\n",
    "\n",
    "\n",
    "\n"
   ]
  },
  {
   "cell_type": "markdown",
   "metadata": {},
   "source": [
    "## 3. Answer another question on the ACS data or another dataset (6 points)\n",
    "\n",
    "Now that you have a new set of skills manipulating DataFrames, try again to answer another interesting question on the ACS data. This could be one of the questions you initially posed on the second homework, or a new question. \n",
    "\n",
    "Alternatively, you are welcome to find another dataset on the Internet (e.g., in a .csv file), and then show an analysis on that dataset.  "
   ]
  },
  {
   "cell_type": "code",
   "execution_count": 145,
   "metadata": {},
   "outputs": [
    {
     "data": {
      "text/html": [
       "<div>\n",
       "<style scoped>\n",
       "    .dataframe tbody tr th:only-of-type {\n",
       "        vertical-align: middle;\n",
       "    }\n",
       "\n",
       "    .dataframe tbody tr th {\n",
       "        vertical-align: top;\n",
       "    }\n",
       "\n",
       "    .dataframe thead th {\n",
       "        text-align: right;\n",
       "    }\n",
       "</style>\n",
       "<table border=\"1\" class=\"dataframe\">\n",
       "  <thead>\n",
       "    <tr style=\"text-align: right;\">\n",
       "      <th></th>\n",
       "      <th>YEAR</th>\n",
       "      <th>SAMPLE</th>\n",
       "      <th>SERIAL</th>\n",
       "      <th>CBSERIAL</th>\n",
       "      <th>NUMPREC</th>\n",
       "      <th>HHWT</th>\n",
       "      <th>HHTYPE</th>\n",
       "      <th>CLUSTER</th>\n",
       "      <th>CPI99</th>\n",
       "      <th>STATEFIP</th>\n",
       "      <th>...</th>\n",
       "      <th>CLASSWKR</th>\n",
       "      <th>CLASSWKRD</th>\n",
       "      <th>WKSWORK2</th>\n",
       "      <th>UHRSWORK</th>\n",
       "      <th>INCBUS00</th>\n",
       "      <th>INCEARN</th>\n",
       "      <th>SEI</th>\n",
       "      <th>MOVEDIN</th>\n",
       "      <th>QBPL</th>\n",
       "      <th>QINCWAGE</th>\n",
       "    </tr>\n",
       "  </thead>\n",
       "  <tbody>\n",
       "    <tr>\n",
       "      <th>0</th>\n",
       "      <td>2017</td>\n",
       "      <td>201701</td>\n",
       "      <td>250395</td>\n",
       "      <td>2017000834943</td>\n",
       "      <td>2</td>\n",
       "      <td>79</td>\n",
       "      <td>2</td>\n",
       "      <td>2017002503951</td>\n",
       "      <td>0.679</td>\n",
       "      <td>9</td>\n",
       "      <td>...</td>\n",
       "      <td>2</td>\n",
       "      <td>28</td>\n",
       "      <td>0</td>\n",
       "      <td>0</td>\n",
       "      <td>0</td>\n",
       "      <td>0</td>\n",
       "      <td>72</td>\n",
       "      <td>7</td>\n",
       "      <td>0</td>\n",
       "      <td>0</td>\n",
       "    </tr>\n",
       "    <tr>\n",
       "      <th>1</th>\n",
       "      <td>2017</td>\n",
       "      <td>201701</td>\n",
       "      <td>1062813</td>\n",
       "      <td>2017000532479</td>\n",
       "      <td>2</td>\n",
       "      <td>27</td>\n",
       "      <td>1</td>\n",
       "      <td>2017010628131</td>\n",
       "      <td>0.679</td>\n",
       "      <td>42</td>\n",
       "      <td>...</td>\n",
       "      <td>0</td>\n",
       "      <td>0</td>\n",
       "      <td>0</td>\n",
       "      <td>0</td>\n",
       "      <td>0</td>\n",
       "      <td>0</td>\n",
       "      <td>0</td>\n",
       "      <td>5</td>\n",
       "      <td>0</td>\n",
       "      <td>0</td>\n",
       "    </tr>\n",
       "    <tr>\n",
       "      <th>2</th>\n",
       "      <td>2017</td>\n",
       "      <td>201701</td>\n",
       "      <td>1235164</td>\n",
       "      <td>2017001001296</td>\n",
       "      <td>1</td>\n",
       "      <td>48</td>\n",
       "      <td>6</td>\n",
       "      <td>2017012351641</td>\n",
       "      <td>0.679</td>\n",
       "      <td>48</td>\n",
       "      <td>...</td>\n",
       "      <td>1</td>\n",
       "      <td>13</td>\n",
       "      <td>1</td>\n",
       "      <td>2</td>\n",
       "      <td>50</td>\n",
       "      <td>150</td>\n",
       "      <td>22</td>\n",
       "      <td>4</td>\n",
       "      <td>0</td>\n",
       "      <td>0</td>\n",
       "    </tr>\n",
       "    <tr>\n",
       "      <th>3</th>\n",
       "      <td>2017</td>\n",
       "      <td>201701</td>\n",
       "      <td>142278</td>\n",
       "      <td>2017000769070</td>\n",
       "      <td>3</td>\n",
       "      <td>50</td>\n",
       "      <td>1</td>\n",
       "      <td>2017001422781</td>\n",
       "      <td>0.679</td>\n",
       "      <td>6</td>\n",
       "      <td>...</td>\n",
       "      <td>2</td>\n",
       "      <td>22</td>\n",
       "      <td>3</td>\n",
       "      <td>35</td>\n",
       "      <td>0</td>\n",
       "      <td>17900</td>\n",
       "      <td>68</td>\n",
       "      <td>0</td>\n",
       "      <td>0</td>\n",
       "      <td>4</td>\n",
       "    </tr>\n",
       "    <tr>\n",
       "      <th>4</th>\n",
       "      <td>2017</td>\n",
       "      <td>201701</td>\n",
       "      <td>954089</td>\n",
       "      <td>2017000012970</td>\n",
       "      <td>5</td>\n",
       "      <td>15</td>\n",
       "      <td>1</td>\n",
       "      <td>2017009540891</td>\n",
       "      <td>0.679</td>\n",
       "      <td>39</td>\n",
       "      <td>...</td>\n",
       "      <td>1</td>\n",
       "      <td>13</td>\n",
       "      <td>2</td>\n",
       "      <td>21</td>\n",
       "      <td>1800</td>\n",
       "      <td>1800</td>\n",
       "      <td>26</td>\n",
       "      <td>0</td>\n",
       "      <td>0</td>\n",
       "      <td>0</td>\n",
       "    </tr>\n",
       "  </tbody>\n",
       "</table>\n",
       "<p>5 rows × 61 columns</p>\n",
       "</div>"
      ],
      "text/plain": [
       "   YEAR  SAMPLE   SERIAL       CBSERIAL  NUMPREC  HHWT  HHTYPE        CLUSTER  \\\n",
       "0  2017  201701   250395  2017000834943        2    79       2  2017002503951   \n",
       "1  2017  201701  1062813  2017000532479        2    27       1  2017010628131   \n",
       "2  2017  201701  1235164  2017001001296        1    48       6  2017012351641   \n",
       "3  2017  201701   142278  2017000769070        3    50       1  2017001422781   \n",
       "4  2017  201701   954089  2017000012970        5    15       1  2017009540891   \n",
       "\n",
       "   CPI99  STATEFIP  ...  CLASSWKR  CLASSWKRD  WKSWORK2  UHRSWORK  INCBUS00  \\\n",
       "0  0.679         9  ...         2         28         0         0         0   \n",
       "1  0.679        42  ...         0          0         0         0         0   \n",
       "2  0.679        48  ...         1         13         1         2        50   \n",
       "3  0.679         6  ...         2         22         3        35         0   \n",
       "4  0.679        39  ...         1         13         2        21      1800   \n",
       "\n",
       "   INCEARN  SEI  MOVEDIN  QBPL  QINCWAGE  \n",
       "0        0   72        7     0         0  \n",
       "1        0    0        5     0         0  \n",
       "2      150   22        4     0         0  \n",
       "3    17900   68        0     0         4  \n",
       "4     1800   26        0     0         0  \n",
       "\n",
       "[5 rows x 61 columns]"
      ]
     },
     "execution_count": 145,
     "metadata": {},
     "output_type": "execute_result"
    }
   ],
   "source": [
    "acs_data1 = pd.read_csv(\"ACS_2017_sample_01.csv\")\n",
    "acs_data1.head()"
   ]
  },
  {
   "cell_type": "code",
   "execution_count": 155,
   "metadata": {},
   "outputs": [],
   "source": [
    "acs_data2 = acs_data1[[\"NUMPREC\",\"INCEARN\"]]"
   ]
  },
  {
   "cell_type": "code",
   "execution_count": 175,
   "metadata": {},
   "outputs": [
    {
     "data": {
      "text/html": [
       "<div>\n",
       "<style scoped>\n",
       "    .dataframe tbody tr th:only-of-type {\n",
       "        vertical-align: middle;\n",
       "    }\n",
       "\n",
       "    .dataframe tbody tr th {\n",
       "        vertical-align: top;\n",
       "    }\n",
       "\n",
       "    .dataframe thead th {\n",
       "        text-align: right;\n",
       "    }\n",
       "</style>\n",
       "<table border=\"1\" class=\"dataframe\">\n",
       "  <thead>\n",
       "    <tr style=\"text-align: right;\">\n",
       "      <th></th>\n",
       "      <th>mean</th>\n",
       "      <th>count</th>\n",
       "    </tr>\n",
       "    <tr>\n",
       "      <th>NUMPREC</th>\n",
       "      <th></th>\n",
       "      <th></th>\n",
       "    </tr>\n",
       "  </thead>\n",
       "  <tbody>\n",
       "    <tr>\n",
       "      <th>1</th>\n",
       "      <td>20961.019708</td>\n",
       "      <td>1573</td>\n",
       "    </tr>\n",
       "    <tr>\n",
       "      <th>2</th>\n",
       "      <td>29983.957661</td>\n",
       "      <td>2787</td>\n",
       "    </tr>\n",
       "    <tr>\n",
       "      <th>3</th>\n",
       "      <td>28909.584519</td>\n",
       "      <td>1757</td>\n",
       "    </tr>\n",
       "    <tr>\n",
       "      <th>4</th>\n",
       "      <td>27462.511823</td>\n",
       "      <td>1903</td>\n",
       "    </tr>\n",
       "    <tr>\n",
       "      <th>5</th>\n",
       "      <td>21898.157407</td>\n",
       "      <td>1080</td>\n",
       "    </tr>\n",
       "    <tr>\n",
       "      <th>6</th>\n",
       "      <td>19373.614458</td>\n",
       "      <td>498</td>\n",
       "    </tr>\n",
       "    <tr>\n",
       "      <th>7</th>\n",
       "      <td>10414.601770</td>\n",
       "      <td>226</td>\n",
       "    </tr>\n",
       "    <tr>\n",
       "      <th>8</th>\n",
       "      <td>12470.506329</td>\n",
       "      <td>79</td>\n",
       "    </tr>\n",
       "    <tr>\n",
       "      <th>9</th>\n",
       "      <td>8829.166667</td>\n",
       "      <td>48</td>\n",
       "    </tr>\n",
       "    <tr>\n",
       "      <th>10</th>\n",
       "      <td>10090.476190</td>\n",
       "      <td>21</td>\n",
       "    </tr>\n",
       "    <tr>\n",
       "      <th>11</th>\n",
       "      <td>6471.428571</td>\n",
       "      <td>14</td>\n",
       "    </tr>\n",
       "    <tr>\n",
       "      <th>12</th>\n",
       "      <td>0.000000</td>\n",
       "      <td>4</td>\n",
       "    </tr>\n",
       "    <tr>\n",
       "      <th>13</th>\n",
       "      <td>12000.000000</td>\n",
       "      <td>1</td>\n",
       "    </tr>\n",
       "    <tr>\n",
       "      <th>14</th>\n",
       "      <td>0.000000</td>\n",
       "      <td>3</td>\n",
       "    </tr>\n",
       "    <tr>\n",
       "      <th>15</th>\n",
       "      <td>0.000000</td>\n",
       "      <td>2</td>\n",
       "    </tr>\n",
       "    <tr>\n",
       "      <th>18</th>\n",
       "      <td>0.000000</td>\n",
       "      <td>1</td>\n",
       "    </tr>\n",
       "    <tr>\n",
       "      <th>19</th>\n",
       "      <td>0.000000</td>\n",
       "      <td>1</td>\n",
       "    </tr>\n",
       "    <tr>\n",
       "      <th>20</th>\n",
       "      <td>0.000000</td>\n",
       "      <td>2</td>\n",
       "    </tr>\n",
       "  </tbody>\n",
       "</table>\n",
       "</div>"
      ],
      "text/plain": [
       "                 mean  count\n",
       "NUMPREC                     \n",
       "1        20961.019708   1573\n",
       "2        29983.957661   2787\n",
       "3        28909.584519   1757\n",
       "4        27462.511823   1903\n",
       "5        21898.157407   1080\n",
       "6        19373.614458    498\n",
       "7        10414.601770    226\n",
       "8        12470.506329     79\n",
       "9         8829.166667     48\n",
       "10       10090.476190     21\n",
       "11        6471.428571     14\n",
       "12           0.000000      4\n",
       "13       12000.000000      1\n",
       "14           0.000000      3\n",
       "15           0.000000      2\n",
       "18           0.000000      1\n",
       "19           0.000000      1\n",
       "20           0.000000      2"
      ]
     },
     "execution_count": 175,
     "metadata": {},
     "output_type": "execute_result"
    }
   ],
   "source": [
    "acs_data3 = acs_data2.groupby(\"NUMPREC\").agg(\n",
    "    mean = (\"INCEARN\",\"mean\"),\n",
    "    count = (\"INCEARN\",\"count\"),\n",
    ")\n",
    "acs_data3"
   ]
  },
  {
   "cell_type": "code",
   "execution_count": 181,
   "metadata": {},
   "outputs": [
    {
     "data": {
      "text/html": [
       "<div>\n",
       "<style scoped>\n",
       "    .dataframe tbody tr th:only-of-type {\n",
       "        vertical-align: middle;\n",
       "    }\n",
       "\n",
       "    .dataframe tbody tr th {\n",
       "        vertical-align: top;\n",
       "    }\n",
       "\n",
       "    .dataframe thead th {\n",
       "        text-align: right;\n",
       "    }\n",
       "</style>\n",
       "<table border=\"1\" class=\"dataframe\">\n",
       "  <thead>\n",
       "    <tr style=\"text-align: right;\">\n",
       "      <th></th>\n",
       "      <th>mean</th>\n",
       "      <th>count</th>\n",
       "    </tr>\n",
       "    <tr>\n",
       "      <th>NUMPREC</th>\n",
       "      <th></th>\n",
       "      <th></th>\n",
       "    </tr>\n",
       "  </thead>\n",
       "  <tbody>\n",
       "    <tr>\n",
       "      <th>1</th>\n",
       "      <td>20961.019708</td>\n",
       "      <td>1573</td>\n",
       "    </tr>\n",
       "    <tr>\n",
       "      <th>2</th>\n",
       "      <td>29983.957661</td>\n",
       "      <td>2787</td>\n",
       "    </tr>\n",
       "    <tr>\n",
       "      <th>3</th>\n",
       "      <td>28909.584519</td>\n",
       "      <td>1757</td>\n",
       "    </tr>\n",
       "    <tr>\n",
       "      <th>4</th>\n",
       "      <td>27462.511823</td>\n",
       "      <td>1903</td>\n",
       "    </tr>\n",
       "    <tr>\n",
       "      <th>5</th>\n",
       "      <td>21898.157407</td>\n",
       "      <td>1080</td>\n",
       "    </tr>\n",
       "    <tr>\n",
       "      <th>6</th>\n",
       "      <td>19373.614458</td>\n",
       "      <td>498</td>\n",
       "    </tr>\n",
       "    <tr>\n",
       "      <th>7</th>\n",
       "      <td>10414.601770</td>\n",
       "      <td>226</td>\n",
       "    </tr>\n",
       "    <tr>\n",
       "      <th>8</th>\n",
       "      <td>12470.506329</td>\n",
       "      <td>79</td>\n",
       "    </tr>\n",
       "    <tr>\n",
       "      <th>9</th>\n",
       "      <td>8829.166667</td>\n",
       "      <td>48</td>\n",
       "    </tr>\n",
       "    <tr>\n",
       "      <th>10</th>\n",
       "      <td>10090.476190</td>\n",
       "      <td>21</td>\n",
       "    </tr>\n",
       "  </tbody>\n",
       "</table>\n",
       "</div>"
      ],
      "text/plain": [
       "                 mean  count\n",
       "NUMPREC                     \n",
       "1        20961.019708   1573\n",
       "2        29983.957661   2787\n",
       "3        28909.584519   1757\n",
       "4        27462.511823   1903\n",
       "5        21898.157407   1080\n",
       "6        19373.614458    498\n",
       "7        10414.601770    226\n",
       "8        12470.506329     79\n",
       "9         8829.166667     48\n",
       "10       10090.476190     21"
      ]
     },
     "execution_count": 181,
     "metadata": {},
     "output_type": "execute_result"
    }
   ],
   "source": [
    "acs_data4 = acs_data3[acs_data3[\"count\"]>20]\n",
    "acs_data4"
   ]
  },
  {
   "cell_type": "markdown",
   "metadata": {},
   "source": [
    "**Answer**: From the analysis above we can find that as the number of people in a family goes up, there is a trend that their income falls down, which contradicts to the common believe since more people mean that they require more money to raise them."
   ]
  },
  {
   "cell_type": "markdown",
   "metadata": {},
   "source": [
    "## 4. Reflection (3 points)\n",
    "\n",
    "Please reflect on how the homework went by going to Canvas, going to the Quizzes link, and clicking on \n",
    "reflection on homework 4.\n"
   ]
  },
  {
   "cell_type": "markdown",
   "metadata": {},
   "source": [
    "## 5. Submission\n",
    "\n",
    "Please submit your assignment as a .pdf on Gradescope. You can access Gradescope through Canvas on the left hand side of the class home page. The problems in each homework assignment are numbered. **NOTE:** When submitting on Gradescope, please select the correct pages of your pdf that correspond to each problem. **Failure to mark pages correctly will result in points being deducted from your homework score.**\n",
    "\n",
    "If you are running Jupyter Notebooks through an Anaconda installation on your own computer, you can produce the .pdf by completing the following steps:  \n",
    "1.  Go to \"File\" at the top-left of your Jupyter Notebook\n",
    "2.  Under \"Download as\", select \"HTML (.html)\"\n",
    "3.  After the .html has downloaded, open it and then select \"File\" and \"Print\" (note you will not actually be printing)\n",
    "4.  From the print window, select the option to save as a .pdf\n",
    "\n",
    "If you are running the assignment in a Google Colabs, you can use the following instructions: \n",
    "1.  Go to \"File\" at the top-left of your Jupyter Notebook and select \"File\" and \"Print\" (note you will not actually be printing)\n",
    "2. From the print window, select the option to save as a .pdf\n",
    "3. Be sure to look over the pdf file to make sure all your code and written work is saved in a clear way. \n",
    "\n"
   ]
  },
  {
   "cell_type": "markdown",
   "metadata": {},
   "source": [
    "<img src=\"https://i.chzbgr.com/full/9480006400/hE22C0C2B/animal-cant-stop-wont-stop\" width=\"300\"/>"
   ]
  },
  {
   "cell_type": "code",
   "execution_count": null,
   "metadata": {},
   "outputs": [],
   "source": []
  }
 ],
 "metadata": {
  "kernelspec": {
   "display_name": "Python 3 (ipykernel)",
   "language": "python",
   "name": "python3"
  },
  "language_info": {
   "codemirror_mode": {
    "name": "ipython",
    "version": 3
   },
   "file_extension": ".py",
   "mimetype": "text/x-python",
   "name": "python",
   "nbconvert_exporter": "python",
   "pygments_lexer": "ipython3",
   "version": "3.12.4"
  }
 },
 "nbformat": 4,
 "nbformat_minor": 4
}
