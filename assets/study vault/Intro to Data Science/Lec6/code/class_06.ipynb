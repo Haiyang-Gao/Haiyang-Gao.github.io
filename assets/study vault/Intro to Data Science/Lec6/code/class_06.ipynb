{
 "cells": [
  {
   "cell_type": "markdown",
   "metadata": {},
   "source": [
    "# Class 06: For loops and writing functions\n",
    "\n",
    "In this notebook we will continuing learning some of the fundamentals of Python, namely using for loops, conditional statements and writing functions. This material will be useful for analyzing data, and more generally for any programming you do in the future. "
   ]
  },
  {
   "cell_type": "code",
   "execution_count": 1,
   "metadata": {},
   "outputs": [],
   "source": [
    "# let us download the data\n",
    "\n",
    "import YData\n",
    "YData.download_data('daily_bike_totals.csv')\n",
    "YData.download_image(\"powers.jpg\")"
   ]
  },
  {
   "cell_type": "code",
   "execution_count": 3,
   "metadata": {},
   "outputs": [],
   "source": [
    "\n",
    "import pandas as pd\n",
    "import numpy as np\n",
    "import matplotlib.pyplot as plt\n"
   ]
  },
  {
   "cell_type": "markdown",
   "metadata": {},
   "source": [
    "## 1. Loops\n",
    "\n",
    "Loops allow us to repeat a process many times. They are particularly useful in conjuction with lists to process and store multiple values. \n"
   ]
  },
  {
   "cell_type": "code",
   "execution_count": 5,
   "metadata": {},
   "outputs": [
    {
     "name": "stdout",
     "output_type": "stream",
     "text": [
      "first\n",
      "second\n",
      "third\n",
      "forth\n"
     ]
    }
   ],
   "source": [
    "# Loop over items in a list\n",
    "a_list = [\"first\", \"second\", \"third\", \"forth\"]\n",
    "\n",
    "for i in a_list:\n",
    "    print(i)\n",
    "\n"
   ]
  },
  {
   "cell_type": "code",
   "execution_count": 21,
   "metadata": {},
   "outputs": [
    {
     "name": "stdout",
     "output_type": "stream",
     "text": [
      "0\n",
      "1\n",
      "2\n",
      "3\n",
      "4\n"
     ]
    }
   ],
   "source": [
    "# Loop over numbers using the range() function\n",
    "# range和arange一样，左包右不包，第三个参数是隔几个取一个\n",
    "for i in range(5):\n",
    "    print(i)\n"
   ]
  },
  {
   "cell_type": "code",
   "execution_count": 17,
   "metadata": {},
   "outputs": [
    {
     "name": "stdout",
     "output_type": "stream",
     "text": [
      "1\n",
      "4\n",
      "9\n",
      "16\n",
      "25\n",
      "36\n"
     ]
    }
   ],
   "source": [
    "# Can you print the squares of the numbers from 1 to 6? \n",
    "for i in range(1,7):\n",
    "    y = i**2\n",
    "    print(y)\n"
   ]
  },
  {
   "cell_type": "markdown",
   "metadata": {},
   "source": [
    "We can use a loop to build up values in a list..."
   ]
  },
  {
   "cell_type": "code",
   "execution_count": 23,
   "metadata": {},
   "outputs": [
    {
     "data": {
      "text/plain": [
       "[1, 4, 9, 16, 25, 36]"
      ]
     },
     "execution_count": 23,
     "metadata": {},
     "output_type": "execute_result"
    }
   ],
   "source": [
    "# Create a list that has the squares of the numbers 1 to 6\n",
    "# hint: the .append() method will be useful\n",
    "\n",
    "my_squares = []\n",
    "\n",
    "for i in range(1,7):\n",
    "    y = i**2\n",
    "    my_squares.append(y)\n",
    "\n",
    "my_squares\n",
    "\n",
    "\n",
    "\n",
    "\n"
   ]
  },
  {
   "cell_type": "markdown",
   "metadata": {},
   "source": [
    "### Exercise 1\n",
    "\n",
    "Can you use loops to sum the numbers 1 to 10? \n",
    "\n",
    "Or, to use mathematical notation, can you compute $\\sum_{i=1}^{10} i$ ?\n"
   ]
  },
  {
   "cell_type": "code",
   "execution_count": 25,
   "metadata": {},
   "outputs": [
    {
     "name": "stdout",
     "output_type": "stream",
     "text": [
      "55\n"
     ]
    }
   ],
   "source": [
    "# Sum numbers from 1 to 10\n",
    "my_sum = 0\n",
    "for i in range(1,11):\n",
    "    my_sum = my_sum+i\n",
    "\n",
    "print(my_sum)\n",
    "\n",
    "\n",
    "\n"
   ]
  },
  {
   "cell_type": "markdown",
   "metadata": {},
   "source": [
    "### Enumerate\n",
    "\n",
    "We can use enumerate(my_list) to get both values from a list and sequential index numbers.\n"
   ]
  },
  {
   "cell_type": "code",
   "execution_count": 31,
   "metadata": {},
   "outputs": [
    {
     "name": "stdout",
     "output_type": "stream",
     "text": [
      "0 first\n",
      "1 second\n",
      "2 third\n",
      "3 forth\n"
     ]
    }
   ],
   "source": [
    "# We can use enumerate(my_list) to get both values from a list \n",
    "# and sequential index numbers\n",
    "\n",
    "a_list = [\"first\", \"second\", \"third\", \"forth\"]\n",
    "for i,j in enumerate(a_list):\n",
    "    print(i,j)\n",
    "\n",
    "\n"
   ]
  },
  {
   "cell_type": "markdown",
   "metadata": {},
   "source": [
    "### zip function\n",
    "\n",
    "We can use `zip(list_1, list_2)` to get values from two lists in a for loop. \n"
   ]
  },
  {
   "cell_type": "code",
   "execution_count": 35,
   "metadata": {},
   "outputs": [
    {
     "name": "stdout",
     "output_type": "stream",
     "text": [
      "a x\n",
      "b y\n",
      "c z\n"
     ]
    }
   ],
   "source": [
    "list_1 = [\"a\", \"b\", \"c\"]\n",
    "list_2 = [\"x\", \"y\", \"z\"]\n",
    "\n",
    "for i,j in zip(list_1,list_2):\n",
    "    print(i,j)\n",
    "\n",
    "\n",
    "\n"
   ]
  },
  {
   "cell_type": "markdown",
   "metadata": {},
   "source": [
    "### Exercise 2\n",
    "\n",
    "The code below extracts two lists that have the the high and low temperatures from 2014 in NYC. \n",
    "\n",
    "Please use for loops to create a list called `temp_range` that has the temperature range (high - low temperature) for each day.\n",
    "\n",
    "There are a few ways to do this, so see if you can come up with a solution that works. Try to do this without using numpy, and once you have a solution, see if you can get the same result using numpy. \n",
    "\n"
   ]
  },
  {
   "cell_type": "code",
   "execution_count": 55,
   "metadata": {},
   "outputs": [
    {
     "name": "stdout",
     "output_type": "stream",
     "text": [
      "[33.08, 33.08, 18.14, 29.12, 39.92]\n",
      "[24.26, 18.14, 9.14, 8.24, 27.14]\n"
     ]
    }
   ],
   "source": [
    "import pandas as pd\n",
    "import matplotlib.pyplot as plt\n",
    "\n",
    "bikes = pd.read_csv(\"daily_bike_totals.csv\", parse_dates = [0])\n",
    "bikes_2014 = bikes.query(\"date > '2013-12-31'\").query(\"date < '2015-01-01'\")\n",
    "\n",
    "max_temps = bikes_2014[\"max_temperature\"].to_list()\n",
    "min_temps = bikes_2014[\"min_temperature\"].to_list()\n",
    "\n",
    "print(max_temps[0:5])\n",
    "print(min_temps[0:5])"
   ]
  },
  {
   "cell_type": "code",
   "execution_count": 109,
   "metadata": {},
   "outputs": [
    {
     "name": "stdout",
     "output_type": "stream",
     "text": [
      "[8.819999999999997, 14.939999999999998, 9.0, 20.880000000000003, 12.780000000000001]\n"
     ]
    },
    {
     "data": {
      "image/png": "[encoded data removed]",
      "text/plain": [
       "<Figure size 640x480 with 1 Axes>"
      ]
     },
     "metadata": {},
     "output_type": "display_data"
    }
   ],
   "source": [
    "# Create a list called \"temp_range\" that has the temperature range for each day in 2014...\n",
    "\n",
    "# Start with an empty list\n",
    "temp_range = [];\n",
    "for i in range(0,len(max_temps)):\n",
    "    temp_range.append(max_temps[i]-min_temps[i])\n",
    "\n",
    "print(temp_range[0:5])\n",
    "\n",
    "plt.plot(temp_range);\n",
    "\n",
    "\n",
    "\n"
   ]
  },
  {
   "cell_type": "code",
   "execution_count": 111,
   "metadata": {},
   "outputs": [
    {
     "data": {
      "text/plain": [
       "[8.819999999999997,\n",
       " 14.939999999999998,\n",
       " 9.0,\n",
       " 20.880000000000003,\n",
       " 12.780000000000001]"
      ]
     },
     "execution_count": 111,
     "metadata": {},
     "output_type": "execute_result"
    }
   ],
   "source": [
    "# Another solution using for loops (i.e., can you do it with and without using the zip() function)\n",
    "\n",
    "# Start with an empty list\n",
    "temp_range2 = [];\n",
    "\n",
    "for i,j in zip(max_temps,min_temps):\n",
    "    temp_range2.append(i-j)\n",
    "\n",
    "temp_range2[0:5]\n",
    "\n",
    "\n",
    "\n",
    "\n",
    "\n"
   ]
  },
  {
   "cell_type": "code",
   "execution_count": 113,
   "metadata": {},
   "outputs": [
    {
     "data": {
      "text/plain": [
       "True"
      ]
     },
     "execution_count": 113,
     "metadata": {},
     "output_type": "execute_result"
    }
   ],
   "source": [
    "temp_range == temp_range2"
   ]
  },
  {
   "cell_type": "code",
   "execution_count": 117,
   "metadata": {},
   "outputs": [
    {
     "name": "stdout",
     "output_type": "stream",
     "text": [
      "365\n"
     ]
    },
    {
     "data": {
      "image/png": "[encoded data removed]",
      "text/plain": [
       "<Figure size 640x480 with 1 Axes>"
      ]
     },
     "metadata": {},
     "output_type": "display_data"
    }
   ],
   "source": [
    "# Can you do the same calculation using numpy arrays?  \n",
    "# Which is easier? \n",
    "import numpy as np\n",
    "\n",
    "temp_range3 = np.array(max_temps)-np.array(min_temps)\n",
    "plt.plot(temp_range3);\n",
    "print(np.sum(temp_range3 == np.array(temp_range)))"
   ]
  },
  {
   "cell_type": "markdown",
   "metadata": {},
   "source": [
    "## 2A. Review of comparisons\n",
    "\n",
    "Let's do a very quick review of mathematical and string comparisons in Python."
   ]
  },
  {
   "cell_type": "code",
   "execution_count": 119,
   "metadata": {},
   "outputs": [
    {
     "data": {
      "text/plain": [
       "True"
      ]
     },
     "execution_count": 119,
     "metadata": {},
     "output_type": "execute_result"
    }
   ],
   "source": [
    "# Basic math comparison\n",
    "n1 = 20\n",
    "n2 = 2\n",
    "\n",
    "n1>n2\n"
   ]
  },
  {
   "cell_type": "code",
   "execution_count": 121,
   "metadata": {},
   "outputs": [
    {
     "data": {
      "text/plain": [
       "bool"
      ]
     },
     "execution_count": 121,
     "metadata": {},
     "output_type": "execute_result"
    }
   ],
   "source": [
    "# Checking the type of a basic math comparison\n",
    "type(n1>n2)\n"
   ]
  },
  {
   "cell_type": "code",
   "execution_count": 123,
   "metadata": {},
   "outputs": [
    {
     "data": {
      "text/plain": [
       "False"
      ]
     },
     "execution_count": 123,
     "metadata": {},
     "output_type": "execute_result"
    }
   ],
   "source": [
    "# We use == to compare whether two items are equal (not 3 = 3)\n",
    "\n",
    "n1 == n2"
   ]
  },
  {
   "cell_type": "code",
   "execution_count": 125,
   "metadata": {},
   "outputs": [
    {
     "data": {
      "text/plain": [
       "True"
      ]
     },
     "execution_count": 125,
     "metadata": {},
     "output_type": "execute_result"
    }
   ],
   "source": [
    "# We can use the `and` keyword to combine multiple logical statements \n",
    "\n",
    "n1>5 and n2 >1\n"
   ]
  },
  {
   "cell_type": "code",
   "execution_count": 127,
   "metadata": {},
   "outputs": [
    {
     "data": {
      "text/plain": [
       "True"
      ]
     },
     "execution_count": 127,
     "metadata": {},
     "output_type": "execute_result"
    }
   ],
   "source": [
    "# We can also use the `or` keyword to combine multiple logical statements \n",
    "\n",
    "n1>5 or n2>100"
   ]
  },
  {
   "cell_type": "code",
   "execution_count": 129,
   "metadata": {},
   "outputs": [
    {
     "data": {
      "text/plain": [
       "True"
      ]
     },
     "execution_count": 129,
     "metadata": {},
     "output_type": "execute_result"
    }
   ],
   "source": [
    "# We can also compare strings\n",
    "\n",
    "\"123\" == \"123\""
   ]
  },
  {
   "cell_type": "code",
   "execution_count": 131,
   "metadata": {},
   "outputs": [
    {
     "data": {
      "text/plain": [
       "True"
      ]
     },
     "execution_count": 131,
     "metadata": {},
     "output_type": "execute_result"
    }
   ],
   "source": [
    "# Stings compare alphabetically\n",
    "\n",
    "\"a\" < \"b\""
   ]
  },
  {
   "cell_type": "code",
   "execution_count": 133,
   "metadata": {},
   "outputs": [
    {
     "data": {
      "text/plain": [
       "True"
      ]
     },
     "execution_count": 133,
     "metadata": {},
     "output_type": "execute_result"
    }
   ],
   "source": [
    "# Shorter words occur earlier than longer words that have matching letters\n",
    "\n",
    "\"cat\" < \"cats\""
   ]
  },
  {
   "cell_type": "markdown",
   "metadata": {},
   "source": [
    "## 2B. Conditional Statements \n",
    "\n",
    "Conditional statements allow use to excecute particular pieces of code when certain conditions are met; i.e., they execute a piece of code when a Boolean value is True. \n",
    "\n",
    "Let's explore!"
   ]
  },
  {
   "cell_type": "code",
   "execution_count": 143,
   "metadata": {},
   "outputs": [
    {
     "name": "stdout",
     "output_type": "stream",
     "text": [
      "senior student\n"
     ]
    }
   ],
   "source": [
    "num_semesters = 7\n",
    "\n",
    "if num_semesters <= 0:\n",
    "    print(\"not a valid number\")\n",
    "elif num_semesters <= 2:\n",
    "    print(\"Freshman\")\n",
    "elif num_semesters <=4:\n",
    "    print(\"sophomore\")\n",
    "elif num_semesters <=6:\n",
    "    print(\"junior student\")\n",
    "elif num_semesters <=8:\n",
    "    print(\"senior student\")\n",
    "else:\n",
    "    print(\"NA\")\n",
    "\n",
    "\n",
    "\n",
    "\n",
    "\n",
    "\n",
    "\n"
   ]
  },
  {
   "cell_type": "code",
   "execution_count": 147,
   "metadata": {},
   "outputs": [
    {
     "name": "stdout",
     "output_type": "stream",
     "text": [
      "0\n",
      "not a valid number\n",
      "1\n",
      "Freshman\n",
      "2\n",
      "Freshman\n",
      "3\n",
      "sophomore\n",
      "4\n",
      "sophomore\n",
      "5\n",
      "junior student\n",
      "6\n",
      "junior student\n",
      "7\n",
      "senior student\n",
      "8\n",
      "senior student\n",
      "9\n",
      "NA\n"
     ]
    }
   ],
   "source": [
    "# Let's look at a conditional statement in a loop\n",
    "for num_semesters in range(10):\n",
    "    print(num_semesters)\n",
    "    if num_semesters <= 0:\n",
    "        print(\"not a valid number\")\n",
    "    elif num_semesters <= 2:\n",
    "        print(\"Freshman\")\n",
    "    elif num_semesters <=4:\n",
    "        print(\"sophomore\")\n",
    "    elif num_semesters <=6:\n",
    "        print(\"junior student\")\n",
    "    elif num_semesters <=8:\n",
    "        print(\"senior student\")\n",
    "    else:\n",
    "        print(\"NA\")"
   ]
  },
  {
   "cell_type": "markdown",
   "metadata": {},
   "source": [
    "## 3. Functions!\n",
    "\n",
    "We have already used many functions in this class that are built into Python or are imported from different modules/packages. \n",
    "\n",
    "Let's now write some new functions outselves! \n"
   ]
  },
  {
   "cell_type": "code",
   "execution_count": 149,
   "metadata": {},
   "outputs": [],
   "source": [
    "# Write a function that doubles a value\n",
    "def double(x):\n",
    "    y = x * 2\n",
    "    return y\n"
   ]
  },
  {
   "cell_type": "code",
   "execution_count": 151,
   "metadata": {},
   "outputs": [
    {
     "data": {
      "text/plain": [
       "20"
      ]
     },
     "execution_count": 151,
     "metadata": {},
     "output_type": "execute_result"
    }
   ],
   "source": [
    "# Try the function out 1\n",
    "double(10)\n"
   ]
  },
  {
   "cell_type": "code",
   "execution_count": 163,
   "metadata": {},
   "outputs": [
    {
     "data": {
      "text/plain": [
       "10.0"
      ]
     },
     "execution_count": 163,
     "metadata": {},
     "output_type": "execute_result"
    }
   ],
   "source": [
    "# Try the function out 2\n",
    "double(15/3)\n"
   ]
  },
  {
   "cell_type": "code",
   "execution_count": 165,
   "metadata": {},
   "outputs": [
    {
     "data": {
      "text/plain": [
       "24"
      ]
     },
     "execution_count": 165,
     "metadata": {},
     "output_type": "execute_result"
    }
   ],
   "source": [
    "# Try the function out 3\n",
    "my_number = 12\n",
    "double(my_number)\n",
    "\n"
   ]
  },
  {
   "cell_type": "code",
   "execution_count": 167,
   "metadata": {},
   "outputs": [
    {
     "data": {
      "text/plain": [
       "8.0"
      ]
     },
     "execution_count": 167,
     "metadata": {},
     "output_type": "execute_result"
    }
   ],
   "source": [
    "# Try the function out 4\n",
    "double(my_number/3)\n"
   ]
  },
  {
   "cell_type": "code",
   "execution_count": 169,
   "metadata": {},
   "outputs": [
    {
     "data": {
      "text/plain": [
       "array([ 6,  8, 10])"
      ]
     },
     "execution_count": 169,
     "metadata": {},
     "output_type": "execute_result"
    }
   ],
   "source": [
    "# Will this work?\n",
    "double(np.array([3,4,5]))\n"
   ]
  },
  {
   "cell_type": "code",
   "execution_count": 171,
   "metadata": {},
   "outputs": [
    {
     "data": {
      "text/plain": [
       "'moneymoney'"
      ]
     },
     "execution_count": 171,
     "metadata": {},
     "output_type": "execute_result"
    }
   ],
   "source": [
    "# Will this work? \n",
    "double(\"money\")\n",
    "\n"
   ]
  },
  {
   "cell_type": "code",
   "execution_count": 173,
   "metadata": {},
   "outputs": [
    {
     "data": {
      "text/plain": [
       "2"
      ]
     },
     "execution_count": 173,
     "metadata": {},
     "output_type": "execute_result"
    }
   ],
   "source": [
    "# What about this? \n",
    "double(True)\n",
    "\n"
   ]
  },
  {
   "cell_type": "code",
   "execution_count": 175,
   "metadata": {},
   "outputs": [
    {
     "ename": "NameError",
     "evalue": "name 'x' is not defined",
     "output_type": "error",
     "traceback": [
      "\u001b[0;31m---------------------------------------------------------------------------\u001b[0m",
      "\u001b[0;31mNameError\u001b[0m                                 Traceback (most recent call last)",
      "Cell \u001b[0;32mIn[175], line 2\u001b[0m\n\u001b[1;32m      1\u001b[0m \u001b[38;5;66;03m# \"local scope\"\u001b[39;00m\n\u001b[0;32m----> 2\u001b[0m x\n",
      "\u001b[0;31mNameError\u001b[0m: name 'x' is not defined"
     ]
    }
   ],
   "source": [
    "# \"local scope\"\n",
    "x\n"
   ]
  },
  {
   "cell_type": "code",
   "execution_count": 177,
   "metadata": {},
   "outputs": [],
   "source": [
    "# Let's set x to 17 \n",
    "x = 17\n"
   ]
  },
  {
   "cell_type": "code",
   "execution_count": 179,
   "metadata": {},
   "outputs": [
    {
     "data": {
      "text/plain": [
       "4"
      ]
     },
     "execution_count": 179,
     "metadata": {},
     "output_type": "execute_result"
    }
   ],
   "source": [
    "# Double 2\n",
    "double(2)\n"
   ]
  },
  {
   "cell_type": "code",
   "execution_count": 181,
   "metadata": {},
   "outputs": [
    {
     "data": {
      "text/plain": [
       "17"
      ]
     },
     "execution_count": 181,
     "metadata": {},
     "output_type": "execute_result"
    }
   ],
   "source": [
    "# Did x change?\n",
    "x\n"
   ]
  },
  {
   "cell_type": "code",
   "execution_count": 183,
   "metadata": {},
   "outputs": [
    {
     "data": {
      "text/plain": [
       "34"
      ]
     },
     "execution_count": 183,
     "metadata": {},
     "output_type": "execute_result"
    }
   ],
   "source": [
    "# What if we double x? \n",
    "double(x)\n"
   ]
  },
  {
   "cell_type": "code",
   "execution_count": 185,
   "metadata": {},
   "outputs": [
    {
     "data": {
      "text/plain": [
       "17"
      ]
     },
     "execution_count": 185,
     "metadata": {},
     "output_type": "execute_result"
    }
   ],
   "source": [
    "# Did x change?\n",
    "x\n"
   ]
  },
  {
   "cell_type": "markdown",
   "metadata": {},
   "source": [
    "### Function extras: docstrings\n",
    "\n",
    "When writing functions that will be used by other people (or your future self) it is important to write some documentation describing how your function works. In Python, this type of documentation is called a \"docstring\". The text in a docstring is in triple quotes which allows for multi-line comments.\n",
    "\n",
    "There are a number of [convensions](https://peps.python.org/pep-0257/) surrounding on how to write a docstring, including: \n",
    "\n",
    "- The doc string line should begin with a capital letter and end with a period.\n",
    "- The first line should be a short description.\n",
    "- If there are more lines in the documentation string, the second line should be blank, visually separating the summary from the rest of the description.\n",
    "- The following lines should be one or more paragraphs describing the object’s calling conventions, its side effects, etc.\n"
   ]
  },
  {
   "cell_type": "code",
   "execution_count": 187,
   "metadata": {},
   "outputs": [],
   "source": [
    "def double(x):\n",
    "    \"\"\"Take a number and doubles it.\n",
    "    \n",
    "    Parameters:\n",
    "    x (int): A number that should be doubled\n",
    "    \n",
    "    Returns:\n",
    "    int: The numbers that is doubled\n",
    "    \n",
    "    \"\"\"\n",
    "    return x * 2"
   ]
  },
  {
   "cell_type": "code",
   "execution_count": 189,
   "metadata": {},
   "outputs": [
    {
     "data": {
      "text/plain": [
       "\u001b[0;31mSignature:\u001b[0m  \u001b[0mdouble\u001b[0m\u001b[0;34m(\u001b[0m\u001b[0mx\u001b[0m\u001b[0;34m)\u001b[0m\u001b[0;34m\u001b[0m\u001b[0;34m\u001b[0m\u001b[0m\n",
       "\u001b[0;31mDocstring:\u001b[0m\n",
       "Take a number and doubles it.\n",
       "\n",
       "Parameters:\n",
       "x (int): A number that should be doubled\n",
       "\n",
       "Returns:\n",
       "int: The numbers that is doubled\n",
       "\u001b[0;31mFile:\u001b[0m      /var/folders/09/sfn15r591gl952cf7tnlt4t40000gn/T/ipykernel_5852/4122166559.py\n",
       "\u001b[0;31mType:\u001b[0m      function"
      ]
     },
     "metadata": {},
     "output_type": "display_data"
    }
   ],
   "source": [
    "# View the docstring\n",
    "? double\n"
   ]
  },
  {
   "cell_type": "markdown",
   "metadata": {},
   "source": [
    "## Multiple arguments and default values\n",
    "\n",
    "We can also write functions that take multiple arguments and we can set particular arguments to have default values that are used if no value for an argument is given. \n",
    "\n",
    "Let's explore this...\n",
    "\n"
   ]
  },
  {
   "cell_type": "code",
   "execution_count": 199,
   "metadata": {},
   "outputs": [],
   "source": [
    "# Define powerit function \n",
    "\n",
    "def powerit(x,pow):\n",
    "    y = x ** pow\n",
    "    return y\n"
   ]
  },
  {
   "cell_type": "code",
   "execution_count": 201,
   "metadata": {},
   "outputs": [
    {
     "data": {
      "text/plain": [
       "8"
      ]
     },
     "execution_count": 201,
     "metadata": {},
     "output_type": "execute_result"
    }
   ],
   "source": [
    "# Use the function \n",
    "powerit(2,3)\n",
    "\n"
   ]
  },
  {
   "cell_type": "code",
   "execution_count": 203,
   "metadata": {},
   "outputs": [],
   "source": [
    "# Try the function with a single argument\n",
    "# powerit(2)\n"
   ]
  },
  {
   "cell_type": "code",
   "execution_count": 205,
   "metadata": {},
   "outputs": [],
   "source": [
    "# Set a default argument value\n",
    "def powerit(x,pow =3):\n",
    "    y = x ** pow\n",
    "    return y\n",
    "\n"
   ]
  },
  {
   "cell_type": "code",
   "execution_count": 207,
   "metadata": {},
   "outputs": [
    {
     "data": {
      "text/plain": [
       "8"
      ]
     },
     "execution_count": 207,
     "metadata": {},
     "output_type": "execute_result"
    }
   ],
   "source": [
    "# Try the new function with a single argument\n",
    "\n",
    "powerit(2)\n"
   ]
  },
  {
   "cell_type": "code",
   "execution_count": 209,
   "metadata": {},
   "outputs": [
    {
     "data": {
      "text/plain": [
       "16"
      ]
     },
     "execution_count": 209,
     "metadata": {},
     "output_type": "execute_result"
    }
   ],
   "source": [
    "# Try the function with two arguments\n",
    "\n",
    "powerit(2,4)\n"
   ]
  },
  {
   "cell_type": "markdown",
   "metadata": {},
   "source": [
    "![higher powers](powers.jpg)"
   ]
  },
  {
   "cell_type": "markdown",
   "metadata": {},
   "source": [
    "## Multiple return values \n",
    "\n",
    "We can also write funciton that can return multiple values. We can do this by returning a tuple. \n",
    "\n",
    "Recall, tuples are a basic data structure in Python that is like a list. However, unlike lists, elements in tuples are \"immutable\" meaning that once we create a tuple, we can not modify the values in the tuple.\n",
    "\n",
    "We create tuples by using values in parentheses separated by commas:\n",
    "\n",
    "`my_tuple = (10, 20, 30)`\n",
    "\n",
    "Let's explore tuples now... "
   ]
  },
  {
   "cell_type": "code",
   "execution_count": 214,
   "metadata": {},
   "outputs": [
    {
     "data": {
      "text/plain": [
       "(10, 20, 30)"
      ]
     },
     "execution_count": 214,
     "metadata": {},
     "output_type": "execute_result"
    }
   ],
   "source": [
    "# Recall tuples\n",
    "my_tuple = (10, 20, 30)\n",
    "\n",
    "my_tuple"
   ]
  },
  {
   "cell_type": "code",
   "execution_count": 218,
   "metadata": {},
   "outputs": [
    {
     "data": {
      "text/plain": [
       "20"
      ]
     },
     "execution_count": 218,
     "metadata": {},
     "output_type": "execute_result"
    }
   ],
   "source": [
    "# We can access elements of the tuple using square brackets (the same as lists)\n",
    "\n",
    "my_tuple[1]"
   ]
  },
  {
   "cell_type": "code",
   "execution_count": 224,
   "metadata": {},
   "outputs": [],
   "source": [
    "# Unlike a list, we can't reassign values in a tuple \n",
    "\n",
    "# my_tuple[1] = 50"
   ]
  },
  {
   "cell_type": "code",
   "execution_count": 228,
   "metadata": {},
   "outputs": [
    {
     "data": {
      "text/plain": [
       "10"
      ]
     },
     "execution_count": 228,
     "metadata": {},
     "output_type": "execute_result"
    }
   ],
   "source": [
    "# We extract values from tuples into regular names using \"tuple unpacking\"\n",
    "\n",
    "val1, val2, val3 = my_tuple\n",
    "val1\n"
   ]
  },
  {
   "cell_type": "markdown",
   "metadata": {},
   "source": [
    "Let's create a function `power23(x)` that returns a number squared and a number cubed. "
   ]
  },
  {
   "cell_type": "code",
   "execution_count": 4,
   "metadata": {},
   "outputs": [],
   "source": [
    "# Create a function that returns a value squared and cubed\n",
    "\n",
    "def power23(x):\n",
    "    y = (x ** 2, x ** 3)\n",
    "    return y\n"
   ]
  },
  {
   "cell_type": "code",
   "execution_count": 6,
   "metadata": {},
   "outputs": [
    {
     "data": {
      "text/plain": [
       "(4, 8)"
      ]
     },
     "execution_count": 6,
     "metadata": {},
     "output_type": "execute_result"
    }
   ],
   "source": [
    "\n",
    "power23(2)\n"
   ]
  },
  {
   "cell_type": "code",
   "execution_count": 8,
   "metadata": {},
   "outputs": [
    {
     "data": {
      "text/plain": [
       "(9, 27)"
      ]
     },
     "execution_count": 8,
     "metadata": {},
     "output_type": "execute_result"
    }
   ],
   "source": [
    "def power23_1(x):\n",
    "    y1 = x ** 2\n",
    "    y2 = x ** 3\n",
    "    return y1,y2\n",
    "\n",
    "power23_1(3)"
   ]
  },
  {
   "cell_type": "code",
   "execution_count": 242,
   "metadata": {},
   "outputs": [
    {
     "name": "stdout",
     "output_type": "stream",
     "text": [
      "4 8\n"
     ]
    }
   ],
   "source": [
    "# We can use \"tuple unpacking\" to assign both outputs to different names\n",
    "sq, cube = power23(2)\n",
    "print(sq, cube)"
   ]
  },
  {
   "cell_type": "markdown",
   "metadata": {},
   "source": [
    "## Passing functions as input arguments\n",
    "\n",
    "We can also pass functions as input arguments to other functions. Let's explore this..."
   ]
  },
  {
   "cell_type": "code",
   "execution_count": 250,
   "metadata": {},
   "outputs": [],
   "source": [
    "def compute_on_my_array(np_function):\n",
    "    my_array = np.array([21,44,54,23,25,32])\n",
    "    calculated_val = np_function(my_array)\n",
    "    return calculated_val\n",
    "\n"
   ]
  },
  {
   "cell_type": "code",
   "execution_count": 252,
   "metadata": {},
   "outputs": [
    {
     "data": {
      "text/plain": [
       "33.166666666666664"
      ]
     },
     "execution_count": 252,
     "metadata": {},
     "output_type": "execute_result"
    }
   ],
   "source": [
    "# Apply the np.mean function to my_array\n",
    "\n",
    "compute_on_my_array(np.mean)\n"
   ]
  },
  {
   "cell_type": "code",
   "execution_count": 254,
   "metadata": {},
   "outputs": [
    {
     "data": {
      "text/plain": [
       "199"
      ]
     },
     "execution_count": 254,
     "metadata": {},
     "output_type": "execute_result"
    }
   ],
   "source": [
    "# Apply the np.sum function to my_array\n",
    "\n",
    "compute_on_my_array(np.sum)\n"
   ]
  },
  {
   "cell_type": "code",
   "execution_count": 256,
   "metadata": {},
   "outputs": [
    {
     "data": {
      "text/plain": [
       "(array([ 441, 1936, 2916,  529,  625, 1024]),\n",
       " array([  9261,  85184, 157464,  12167,  15625,  32768]))"
      ]
     },
     "execution_count": 256,
     "metadata": {},
     "output_type": "execute_result"
    }
   ],
   "source": [
    "# Apply power23 to my_array\n",
    "\n",
    "compute_on_my_array(power23)\n"
   ]
  },
  {
   "attachments": {},
   "cell_type": "markdown",
   "metadata": {},
   "source": [
    "## 4. Additional practice writing functions\n",
    "\n",
    "As additional pracice, let's write a function that will mimic flipping coins. This function will be useful when we start talking about statistical inference. \n",
    "\n",
    "In particular, let's write a function called `flip_coins(n, prob)` which will simulate flipping a coin `n` times where:\n",
    "- `n` is the number of times we have flipped the coin\n",
    "- `prob` is the probability that each coin flip will return \"head\"\n",
    "\n",
    "The function should return the number of \"heads\" that occurred from flipping the coin `n` times; i.e., it should return a number between 0, which means no heads occurred, and `n` which means a \"head\" occurred on every flip. \n",
    "\n",
    "When writing functions, it is often useful to write the bulk of the code outside of a function and then turn in into a function by wrapping your code in a `def` statement. Let's go through a few steps of writing this function now. \n"
   ]
  },
  {
   "cell_type": "markdown",
   "metadata": {},
   "source": [
    "#### Step 1: Generating random numbers between 0 and 1\n",
    "\n",
    "We can use the numpy function `np.random.rand(n)` to generate `n` random numbers. Please create a name called `n` and set it equal to 500 to simulate 500 random coin flips. Then use the name `n`, along with the `np.random.rand(n)` to generate 500 random numbers between 0 and 1. Save these random numbers to the name `rand_nums`. \n",
    "\n",
    "Finally, to see what these numbers look like, visualize `rand_nums` using a histogram. \n"
   ]
  },
  {
   "cell_type": "code",
   "execution_count": 258,
   "metadata": {},
   "outputs": [
    {
     "name": "stdout",
     "output_type": "stream",
     "text": [
      "[0.71424209 0.91050195 0.20071893 0.32800698 0.20600685 0.98414998\n",
      " 0.10672417 0.25540366 0.10422272 0.05667888]\n"
     ]
    }
   ],
   "source": [
    "# Use np.random.rand() to generate n = 500 random numbers between 0 and 1, and visualize them as a histogram. \n",
    "n = 500\n",
    "random_nums = np.random.rand(n)\n",
    "print(random_nums[0:10])"
   ]
  },
  {
   "cell_type": "markdown",
   "metadata": {},
   "source": [
    "#### Step 2: Count the number of \"heads\"\n",
    "\n",
    "Next create a name called `prob` which has the probability that a coin flip is a \"head\". Let's set `prob` to be equal to .5 to simulate flipping a fair coin. Then see how many of the `rand_nums` are less than the `prob` value to see how many of your coin flips were \"head\"; i.e., use `np.sum()` to count how many of your coin flips were heads. \n",
    "\n"
   ]
  },
  {
   "cell_type": "code",
   "execution_count": 262,
   "metadata": {},
   "outputs": [
    {
     "data": {
      "text/plain": [
       "247"
      ]
     },
     "execution_count": 262,
     "metadata": {},
     "output_type": "execute_result"
    }
   ],
   "source": [
    "# Set prob to .5 and count how many values are greater than prob\n",
    "prob = .5\n",
    "np.sum(random_nums<prob)\n",
    "\n",
    "\n"
   ]
  },
  {
   "cell_type": "markdown",
   "metadata": {},
   "source": [
    "#### Step 3: Creating the function flip_coins(n, prob)\n",
    "\n",
    "Now write the function `flip_coins(n, prob)` by taking the code you wrote in the previous two steps and turning it into a function. \n",
    "\n",
    "Then try out the function a few times and see how the number of \"heads\" you get varies from simulation to simulation, and also experiment with different values for the arguments `n` and `prob`. \n"
   ]
  },
  {
   "cell_type": "code",
   "execution_count": 264,
   "metadata": {},
   "outputs": [
    {
     "data": {
      "text/plain": [
       "253"
      ]
     },
     "execution_count": 264,
     "metadata": {},
     "output_type": "execute_result"
    }
   ],
   "source": [
    "# Create a function flip_coins(n, prob) that generates n random numbers and returns how many are less than prob\n",
    "\n",
    "def flip_coins(n,prob):\n",
    "    rand_nums = np.random.rand(n)\n",
    "    num_heads = np.sum(rand_nums<prob)\n",
    "    return num_heads\n",
    "\n",
    "flip_coins(500,0.5)\n",
    "\n",
    "\n",
    "\n"
   ]
  },
  {
   "cell_type": "markdown",
   "metadata": {},
   "source": [
    "#### Step 4: Adding an additional argument to the function \n",
    "\n",
    "Let's add an additional parameter to the `flip_coins` function called `return_prop` which has a default value of `False`; i.e., the function should now be `flip_coins(n, prob, return_prop = False)`. If the `return_prop` is set to `True` that it should return the proportion of coin flips that were heads rather than the number of coin flips that were heads. \n",
    "\n",
    "Hint: Adding a conditional statement to your function could be useful. \n",
    "\n"
   ]
  },
  {
   "cell_type": "code",
   "execution_count": 266,
   "metadata": {},
   "outputs": [
    {
     "data": {
      "text/plain": [
       "0.511"
      ]
     },
     "execution_count": 266,
     "metadata": {},
     "output_type": "execute_result"
    }
   ],
   "source": [
    "# Add an argument return_prop that when set to True will return the proporton of coin flips that were heads (rather than the number of heads)\n",
    "def flip_coins(n,prob,return_prop = False):\n",
    "    rand_nums = np.random.rand(n)\n",
    "    num_heads = np.sum(rand_nums<prob)\n",
    "    if return_prop:\n",
    "        return num_heads/n\n",
    "    else:\n",
    "        return num_heads\n",
    "\n",
    "flip_coins(1000,0.5,True)\n",
    "\n",
    "\n"
   ]
  },
  {
   "cell_type": "code",
   "execution_count": null,
   "metadata": {},
   "outputs": [],
   "source": []
  }
 ],
 "metadata": {
  "anaconda-cloud": {},
  "kernelspec": {
   "display_name": "Python 3 (ipykernel)",
   "language": "python",
   "name": "python3"
  },
  "language_info": {
   "codemirror_mode": {
    "name": "ipython",
    "version": 3
   },
   "file_extension": ".py",
   "mimetype": "text/x-python",
   "name": "python",
   "nbconvert_exporter": "python",
   "pygments_lexer": "ipython3",
   "version": "3.12.4"
  }
 },
 "nbformat": 4,
 "nbformat_minor": 4
}
